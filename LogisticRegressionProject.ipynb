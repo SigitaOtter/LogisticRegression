{
 "cells": [
  {
   "cell_type": "markdown",
   "id": "0bb69bef-cbdd-4d63-9c09-d9ff96cbe326",
   "metadata": {},
   "source": [
    "# Logistic Regression Project: Cardiovascular Disease Risk Modelling"
   ]
  },
  {
   "cell_type": "markdown",
   "id": "702c8991-6943-41c9-9b8d-58b41d51d7ad",
   "metadata": {},
   "source": [
    "---\n",
    "### Task\n",
    "Analyse dataset, create a logistic regression model for predicting 10-year risk of coronary heart disease (CHD) and calculate the optimal threshold. \n",
    "\n",
    "### Dataset\n",
    "Kaggle train dataset from an ongoing cardiovascular study on residents of the town of Framingham, Massachusetts:\n",
    "https://www.kaggle.com/datasets/christofel04/cardiovascular-study-dataset-predict-heart-disea?select=train.csv\n",
    "\n",
    "### Working Assumptions\n",
    "\n",
    "For choosing which model fits best I will hold the following assumptions true:\n",
    "1. The model will be used to recommend coronoary heart desease preventive measures rather than as a tool for diagnosis\n",
    "2. All the measurements and medical history details are stored for each patient anyways and having less indicators in the model does not make any difference for a doctor's routine\n",
    "3. Identifying patients more prone to chd is the most important, but not alerting too many patients is also important\n",
    "4. No more than half of patients should receive the recommendations for chd risk preventive measures\n",
    "\n",
    "To jump staight to conclusions, click [here](#conclusion).\n",
    "\n",
    "---\n",
    "\n",
    "### Notebook Structure\n",
    "1. Data loading and cleaning\n",
    "2. Exploratory data analysis\n",
    "3. Modelling and Optimisation\n",
    "4. Conclusions\n",
    "5. Next steps\n",
    "\n",
    "---\n",
    "<br>"
   ]
  },
  {
   "cell_type": "code",
   "execution_count": 85,
   "id": "bf0b102c-5dfc-4d5a-81ff-ab323cafc4ec",
   "metadata": {},
   "outputs": [],
   "source": [
    "from sklearn.model_selection import train_test_split\n",
    "from sklearn.linear_model import LogisticRegression\n",
    "from sklearn.model_selection import GridSearchCV\n",
    "from sklearn.impute import SimpleImputer\n",
    "from sklearn.metrics import accuracy_score, precision_score, recall_score, f1_score\n",
    "from sklearn.metrics import classification_report, confusion_matrix, roc_auc_score\n",
    "from sklearn.metrics import roc_curve, auc\n",
    "from statsmodels.stats.outliers_influence import variance_inflation_factor\n",
    "from sklearn.preprocessing import StandardScaler\n",
    "import pandas as pd\n",
    "import seaborn as sns\n",
    "import numpy as np\n",
    "import matplotlib\n",
    "import matplotlib.pyplot as plt"
   ]
  },
  {
   "cell_type": "code",
   "execution_count": 3,
   "id": "2f16f077-e2f8-4a92-acd2-3b0d05473327",
   "metadata": {},
   "outputs": [],
   "source": [
    "pd.set_option(\"display.max_columns\", None)\n",
    "pd.set_option(\"display.max_rows\", None)\n",
    "sns.set_style('darkgrid')\n",
    "sns.set_palette('colorblind')\n",
    "matplotlib.rcParams['font.size'] = 12\n",
    "matplotlib.rcParams['figure.figsize'] = (6, 3)\n",
    "matplotlib.rcParams['figure.facecolor'] = '#00000000'"
   ]
  },
  {
   "cell_type": "markdown",
   "id": "71270255-3d21-43e0-b9de-48acfc3526b3",
   "metadata": {},
   "source": [
    "<br>\n",
    "\n",
    "## Data Loading and Cleaning"
   ]
  },
  {
   "cell_type": "code",
   "execution_count": 7,
   "id": "0ad91666-b623-4760-9577-7a43510589a7",
   "metadata": {},
   "outputs": [
    {
     "data": {
      "text/plain": [
       "(3390, 16)"
      ]
     },
     "execution_count": 7,
     "metadata": {},
     "output_type": "execute_result"
    }
   ],
   "source": [
    "df = pd.read_csv(\"./train.csv\", index_col='id')\n",
    "df.shape"
   ]
  },
  {
   "cell_type": "markdown",
   "id": "d047a0ba-28f5-4ee6-9367-899c6627aa20",
   "metadata": {},
   "source": [
    "There is no information on what education values represent. This makes education column not interpretable. I will drop it."
   ]
  },
  {
   "cell_type": "code",
   "execution_count": 8,
   "id": "8d51d57d-ed93-4c2a-aa23-5bdca3df0975",
   "metadata": {},
   "outputs": [],
   "source": [
    "df = df.drop(columns=['education'])"
   ]
  },
  {
   "cell_type": "markdown",
   "id": "3fa16905-fff2-4a6b-a199-4e20db8bddea",
   "metadata": {},
   "source": [
    "Let's drop duplicates, if any."
   ]
  },
  {
   "cell_type": "code",
   "execution_count": 9,
   "id": "dd350f89-284f-4b45-871b-948c2e0042ab",
   "metadata": {},
   "outputs": [
    {
     "data": {
      "text/plain": [
       "3390"
      ]
     },
     "execution_count": 9,
     "metadata": {},
     "output_type": "execute_result"
    }
   ],
   "source": [
    "df = df.drop_duplicates()\n",
    "df.shape[0]"
   ]
  },
  {
   "cell_type": "markdown",
   "id": "7ff4d5ad-a91b-427d-b8d5-a67174cfd2fe",
   "metadata": {},
   "source": [
    "Number of rows stayed the same, no duplicates found. Next, let's glimpse into the data."
   ]
  },
  {
   "cell_type": "markdown",
   "id": "ab5731d3-ccae-4993-b44b-4536c6f8fcec",
   "metadata": {},
   "source": [
    "I'll fix the case of column names to be consistent and more readable."
   ]
  },
  {
   "cell_type": "code",
   "execution_count": 10,
   "id": "a9db04c3-7bc5-4996-a60a-2ad884187d31",
   "metadata": {},
   "outputs": [],
   "source": [
    "df.rename(columns={'cigsPerDay': 'cigs_per_day',\n",
    "                   'BPMeds': 'bp_meds',\n",
    "                   'prevalentStroke': 'prevalent_stroke',\n",
    "                   'prevalentHyp': 'prevalent_hyp',\n",
    "                   'diabetes': 'diabetes',\n",
    "                   'totChol': 'cholesterol',\n",
    "                   'sysBP': 'systolic_bp',\n",
    "                   'diaBP': 'diastolic_bp',\n",
    "                   'BMI': 'bmi',\n",
    "                   'heartRate': 'heart_rate',\n",
    "                   'glucose': 'glucose',\n",
    "                   'TenYearCHD': 'ten_year_chd'},\n",
    "          inplace=True)"
   ]
  },
  {
   "cell_type": "code",
   "execution_count": 11,
   "id": "a5dd31a1-ec95-4d99-af7b-2771546cc183",
   "metadata": {},
   "outputs": [
    {
     "data": {
      "text/html": [
       "<div>\n",
       "<style scoped>\n",
       "    .dataframe tbody tr th:only-of-type {\n",
       "        vertical-align: middle;\n",
       "    }\n",
       "\n",
       "    .dataframe tbody tr th {\n",
       "        vertical-align: top;\n",
       "    }\n",
       "\n",
       "    .dataframe thead th {\n",
       "        text-align: right;\n",
       "    }\n",
       "</style>\n",
       "<table border=\"1\" class=\"dataframe\">\n",
       "  <thead>\n",
       "    <tr style=\"text-align: right;\">\n",
       "      <th></th>\n",
       "      <th>age</th>\n",
       "      <th>sex</th>\n",
       "      <th>is_smoking</th>\n",
       "      <th>cigs_per_day</th>\n",
       "      <th>bp_meds</th>\n",
       "      <th>prevalent_stroke</th>\n",
       "      <th>prevalent_hyp</th>\n",
       "      <th>diabetes</th>\n",
       "      <th>cholesterol</th>\n",
       "      <th>systolic_bp</th>\n",
       "      <th>diastolic_bp</th>\n",
       "      <th>bmi</th>\n",
       "      <th>heart_rate</th>\n",
       "      <th>glucose</th>\n",
       "      <th>ten_year_chd</th>\n",
       "    </tr>\n",
       "    <tr>\n",
       "      <th>id</th>\n",
       "      <th></th>\n",
       "      <th></th>\n",
       "      <th></th>\n",
       "      <th></th>\n",
       "      <th></th>\n",
       "      <th></th>\n",
       "      <th></th>\n",
       "      <th></th>\n",
       "      <th></th>\n",
       "      <th></th>\n",
       "      <th></th>\n",
       "      <th></th>\n",
       "      <th></th>\n",
       "      <th></th>\n",
       "      <th></th>\n",
       "    </tr>\n",
       "  </thead>\n",
       "  <tbody>\n",
       "    <tr>\n",
       "      <th>0</th>\n",
       "      <td>64</td>\n",
       "      <td>F</td>\n",
       "      <td>YES</td>\n",
       "      <td>3.0</td>\n",
       "      <td>0.0</td>\n",
       "      <td>0</td>\n",
       "      <td>0</td>\n",
       "      <td>0</td>\n",
       "      <td>221.0</td>\n",
       "      <td>148.0</td>\n",
       "      <td>85.0</td>\n",
       "      <td>NaN</td>\n",
       "      <td>90.0</td>\n",
       "      <td>80.0</td>\n",
       "      <td>1</td>\n",
       "    </tr>\n",
       "    <tr>\n",
       "      <th>1</th>\n",
       "      <td>36</td>\n",
       "      <td>M</td>\n",
       "      <td>NO</td>\n",
       "      <td>0.0</td>\n",
       "      <td>0.0</td>\n",
       "      <td>0</td>\n",
       "      <td>1</td>\n",
       "      <td>0</td>\n",
       "      <td>212.0</td>\n",
       "      <td>168.0</td>\n",
       "      <td>98.0</td>\n",
       "      <td>29.77</td>\n",
       "      <td>72.0</td>\n",
       "      <td>75.0</td>\n",
       "      <td>0</td>\n",
       "    </tr>\n",
       "    <tr>\n",
       "      <th>2</th>\n",
       "      <td>46</td>\n",
       "      <td>F</td>\n",
       "      <td>YES</td>\n",
       "      <td>10.0</td>\n",
       "      <td>0.0</td>\n",
       "      <td>0</td>\n",
       "      <td>0</td>\n",
       "      <td>0</td>\n",
       "      <td>250.0</td>\n",
       "      <td>116.0</td>\n",
       "      <td>71.0</td>\n",
       "      <td>20.35</td>\n",
       "      <td>88.0</td>\n",
       "      <td>94.0</td>\n",
       "      <td>0</td>\n",
       "    </tr>\n",
       "    <tr>\n",
       "      <th>3</th>\n",
       "      <td>50</td>\n",
       "      <td>M</td>\n",
       "      <td>YES</td>\n",
       "      <td>20.0</td>\n",
       "      <td>0.0</td>\n",
       "      <td>0</td>\n",
       "      <td>1</td>\n",
       "      <td>0</td>\n",
       "      <td>233.0</td>\n",
       "      <td>158.0</td>\n",
       "      <td>88.0</td>\n",
       "      <td>28.26</td>\n",
       "      <td>68.0</td>\n",
       "      <td>94.0</td>\n",
       "      <td>1</td>\n",
       "    </tr>\n",
       "    <tr>\n",
       "      <th>4</th>\n",
       "      <td>64</td>\n",
       "      <td>F</td>\n",
       "      <td>YES</td>\n",
       "      <td>30.0</td>\n",
       "      <td>0.0</td>\n",
       "      <td>0</td>\n",
       "      <td>0</td>\n",
       "      <td>0</td>\n",
       "      <td>241.0</td>\n",
       "      <td>136.5</td>\n",
       "      <td>85.0</td>\n",
       "      <td>26.42</td>\n",
       "      <td>70.0</td>\n",
       "      <td>77.0</td>\n",
       "      <td>0</td>\n",
       "    </tr>\n",
       "    <tr>\n",
       "      <th>5</th>\n",
       "      <td>61</td>\n",
       "      <td>F</td>\n",
       "      <td>NO</td>\n",
       "      <td>0.0</td>\n",
       "      <td>0.0</td>\n",
       "      <td>0</td>\n",
       "      <td>1</td>\n",
       "      <td>0</td>\n",
       "      <td>272.0</td>\n",
       "      <td>182.0</td>\n",
       "      <td>121.0</td>\n",
       "      <td>32.80</td>\n",
       "      <td>85.0</td>\n",
       "      <td>65.0</td>\n",
       "      <td>1</td>\n",
       "    </tr>\n",
       "    <tr>\n",
       "      <th>6</th>\n",
       "      <td>61</td>\n",
       "      <td>M</td>\n",
       "      <td>NO</td>\n",
       "      <td>0.0</td>\n",
       "      <td>0.0</td>\n",
       "      <td>0</td>\n",
       "      <td>1</td>\n",
       "      <td>0</td>\n",
       "      <td>238.0</td>\n",
       "      <td>232.0</td>\n",
       "      <td>136.0</td>\n",
       "      <td>24.83</td>\n",
       "      <td>75.0</td>\n",
       "      <td>79.0</td>\n",
       "      <td>0</td>\n",
       "    </tr>\n",
       "    <tr>\n",
       "      <th>7</th>\n",
       "      <td>36</td>\n",
       "      <td>M</td>\n",
       "      <td>YES</td>\n",
       "      <td>35.0</td>\n",
       "      <td>0.0</td>\n",
       "      <td>0</td>\n",
       "      <td>0</td>\n",
       "      <td>0</td>\n",
       "      <td>295.0</td>\n",
       "      <td>102.0</td>\n",
       "      <td>68.0</td>\n",
       "      <td>28.15</td>\n",
       "      <td>60.0</td>\n",
       "      <td>63.0</td>\n",
       "      <td>0</td>\n",
       "    </tr>\n",
       "    <tr>\n",
       "      <th>8</th>\n",
       "      <td>41</td>\n",
       "      <td>F</td>\n",
       "      <td>YES</td>\n",
       "      <td>20.0</td>\n",
       "      <td>NaN</td>\n",
       "      <td>0</td>\n",
       "      <td>0</td>\n",
       "      <td>0</td>\n",
       "      <td>220.0</td>\n",
       "      <td>126.0</td>\n",
       "      <td>78.0</td>\n",
       "      <td>20.70</td>\n",
       "      <td>86.0</td>\n",
       "      <td>79.0</td>\n",
       "      <td>0</td>\n",
       "    </tr>\n",
       "    <tr>\n",
       "      <th>9</th>\n",
       "      <td>55</td>\n",
       "      <td>F</td>\n",
       "      <td>NO</td>\n",
       "      <td>0.0</td>\n",
       "      <td>0.0</td>\n",
       "      <td>0</td>\n",
       "      <td>1</td>\n",
       "      <td>0</td>\n",
       "      <td>326.0</td>\n",
       "      <td>144.0</td>\n",
       "      <td>81.0</td>\n",
       "      <td>25.71</td>\n",
       "      <td>85.0</td>\n",
       "      <td>NaN</td>\n",
       "      <td>0</td>\n",
       "    </tr>\n",
       "  </tbody>\n",
       "</table>\n",
       "</div>"
      ],
      "text/plain": [
       "    age sex is_smoking  cigs_per_day  bp_meds  prevalent_stroke  \\\n",
       "id                                                                \n",
       "0    64   F        YES           3.0      0.0                 0   \n",
       "1    36   M         NO           0.0      0.0                 0   \n",
       "2    46   F        YES          10.0      0.0                 0   \n",
       "3    50   M        YES          20.0      0.0                 0   \n",
       "4    64   F        YES          30.0      0.0                 0   \n",
       "5    61   F         NO           0.0      0.0                 0   \n",
       "6    61   M         NO           0.0      0.0                 0   \n",
       "7    36   M        YES          35.0      0.0                 0   \n",
       "8    41   F        YES          20.0      NaN                 0   \n",
       "9    55   F         NO           0.0      0.0                 0   \n",
       "\n",
       "    prevalent_hyp  diabetes  cholesterol  systolic_bp  diastolic_bp    bmi  \\\n",
       "id                                                                           \n",
       "0               0         0        221.0        148.0          85.0    NaN   \n",
       "1               1         0        212.0        168.0          98.0  29.77   \n",
       "2               0         0        250.0        116.0          71.0  20.35   \n",
       "3               1         0        233.0        158.0          88.0  28.26   \n",
       "4               0         0        241.0        136.5          85.0  26.42   \n",
       "5               1         0        272.0        182.0         121.0  32.80   \n",
       "6               1         0        238.0        232.0         136.0  24.83   \n",
       "7               0         0        295.0        102.0          68.0  28.15   \n",
       "8               0         0        220.0        126.0          78.0  20.70   \n",
       "9               1         0        326.0        144.0          81.0  25.71   \n",
       "\n",
       "    heart_rate  glucose  ten_year_chd  \n",
       "id                                     \n",
       "0         90.0     80.0             1  \n",
       "1         72.0     75.0             0  \n",
       "2         88.0     94.0             0  \n",
       "3         68.0     94.0             1  \n",
       "4         70.0     77.0             0  \n",
       "5         85.0     65.0             1  \n",
       "6         75.0     79.0             0  \n",
       "7         60.0     63.0             0  \n",
       "8         86.0     79.0             0  \n",
       "9         85.0      NaN             0  "
      ]
     },
     "execution_count": 11,
     "metadata": {},
     "output_type": "execute_result"
    }
   ],
   "source": [
    "df.head(10)"
   ]
  },
  {
   "cell_type": "markdown",
   "id": "9b381bce-32eb-43eb-a792-9382ed9ccddd",
   "metadata": {},
   "source": [
    "Noticed that bp_meds and bmi columns have NaN values. I'll check if other columns have NaN values and how many."
   ]
  },
  {
   "cell_type": "code",
   "execution_count": 12,
   "id": "406e4450-b54f-43fc-8c82-ea86fc608f1b",
   "metadata": {},
   "outputs": [
    {
     "data": {
      "text/plain": [
       "cigs_per_day    0.65\n",
       "bp_meds         1.30\n",
       "cholesterol     1.12\n",
       "bmi             0.41\n",
       "heart_rate      0.03\n",
       "glucose         8.97\n",
       "dtype: float64"
      ]
     },
     "execution_count": 12,
     "metadata": {},
     "output_type": "execute_result"
    }
   ],
   "source": [
    "na_percentage = df.isna().mean() * 100\n",
    "na_percentage_rounded = na_percentage.round(2)\n",
    "na_percentage_rounded[na_percentage_rounded > 0]"
   ]
  },
  {
   "cell_type": "markdown",
   "id": "9a64bd2a-cdd3-4c75-8b3f-3d760c0cbd37",
   "metadata": {},
   "source": [
    "Target column - ten_year_chd - has no missing values, wonderful. Glucose has almost 9% of values missing. I suspect that glocose might be very useful for predicting heart disease, but I do not want to loose 9% of dataset by removing rows with NaNs. High glucose levels should mean that a person had diabetes. Diabetes column has no null values. I will look into correlation between the two."
   ]
  },
  {
   "cell_type": "code",
   "execution_count": 13,
   "id": "87373675-0ef7-43fd-b822-696210a3599c",
   "metadata": {},
   "outputs": [
    {
     "data": {
      "text/html": [
       "<div>\n",
       "<style scoped>\n",
       "    .dataframe tbody tr th:only-of-type {\n",
       "        vertical-align: middle;\n",
       "    }\n",
       "\n",
       "    .dataframe tbody tr th {\n",
       "        vertical-align: top;\n",
       "    }\n",
       "\n",
       "    .dataframe thead th {\n",
       "        text-align: right;\n",
       "    }\n",
       "</style>\n",
       "<table border=\"1\" class=\"dataframe\">\n",
       "  <thead>\n",
       "    <tr style=\"text-align: right;\">\n",
       "      <th></th>\n",
       "      <th>glucose</th>\n",
       "      <th>diabetes</th>\n",
       "      <th>ten_year_chd</th>\n",
       "    </tr>\n",
       "  </thead>\n",
       "  <tbody>\n",
       "    <tr>\n",
       "      <th>glucose</th>\n",
       "      <td>1.000000</td>\n",
       "      <td>0.620211</td>\n",
       "      <td>0.138200</td>\n",
       "    </tr>\n",
       "    <tr>\n",
       "      <th>diabetes</th>\n",
       "      <td>0.620211</td>\n",
       "      <td>1.000000</td>\n",
       "      <td>0.103681</td>\n",
       "    </tr>\n",
       "    <tr>\n",
       "      <th>ten_year_chd</th>\n",
       "      <td>0.138200</td>\n",
       "      <td>0.103681</td>\n",
       "      <td>1.000000</td>\n",
       "    </tr>\n",
       "  </tbody>\n",
       "</table>\n",
       "</div>"
      ],
      "text/plain": [
       "               glucose  diabetes  ten_year_chd\n",
       "glucose       1.000000  0.620211      0.138200\n",
       "diabetes      0.620211  1.000000      0.103681\n",
       "ten_year_chd  0.138200  0.103681      1.000000"
      ]
     },
     "execution_count": 13,
     "metadata": {},
     "output_type": "execute_result"
    }
   ],
   "source": [
    "df[['glucose', 'diabetes', 'ten_year_chd']].corr()"
   ]
  },
  {
   "cell_type": "markdown",
   "id": "da85bfc5-0903-47b0-a3ae-91604137a88c",
   "metadata": {},
   "source": [
    "The correlation is there, but it is not high enoug to say that glucose level can be omitted and only diabetes used for modelling. I will now check if glucose level distribution is skewed."
   ]
  },
  {
   "cell_type": "code",
   "execution_count": 14,
   "id": "eb009790-2d00-4783-ae3a-5370de8f670f",
   "metadata": {},
   "outputs": [
    {
     "data": {
      "image/png": "[encoded data removed]",
      "text/plain": [
       "<Figure size 600x300 with 1 Axes>"
      ]
     },
     "metadata": {
      "needs_background": "light"
     },
     "output_type": "display_data"
    }
   ],
   "source": [
    "sns.histplot(df['glucose'].dropna(), kde=True)\n",
    "plt.title('Distribution of Glucose');"
   ]
  },
  {
   "cell_type": "markdown",
   "id": "47dccb45-11bc-4ff1-8db6-61913fbbc970",
   "metadata": {},
   "source": [
    "Distribution is skewed, thus, I will use median for imputing NaN values and also create a column to know which values were imputed."
   ]
  },
  {
   "cell_type": "code",
   "execution_count": 15,
   "id": "47fcbc19-e10f-4ff2-830d-a9ca43c8e3e2",
   "metadata": {},
   "outputs": [
    {
     "data": {
      "text/html": [
       "<div>\n",
       "<style scoped>\n",
       "    .dataframe tbody tr th:only-of-type {\n",
       "        vertical-align: middle;\n",
       "    }\n",
       "\n",
       "    .dataframe tbody tr th {\n",
       "        vertical-align: top;\n",
       "    }\n",
       "\n",
       "    .dataframe thead th {\n",
       "        text-align: right;\n",
       "    }\n",
       "</style>\n",
       "<table border=\"1\" class=\"dataframe\">\n",
       "  <thead>\n",
       "    <tr style=\"text-align: right;\">\n",
       "      <th></th>\n",
       "      <th>age</th>\n",
       "      <th>sex</th>\n",
       "      <th>is_smoking</th>\n",
       "      <th>cigs_per_day</th>\n",
       "      <th>bp_meds</th>\n",
       "      <th>prevalent_stroke</th>\n",
       "      <th>prevalent_hyp</th>\n",
       "      <th>diabetes</th>\n",
       "      <th>cholesterol</th>\n",
       "      <th>systolic_bp</th>\n",
       "      <th>diastolic_bp</th>\n",
       "      <th>bmi</th>\n",
       "      <th>heart_rate</th>\n",
       "      <th>glucose</th>\n",
       "      <th>ten_year_chd</th>\n",
       "      <th>glucose_imputed</th>\n",
       "    </tr>\n",
       "    <tr>\n",
       "      <th>id</th>\n",
       "      <th></th>\n",
       "      <th></th>\n",
       "      <th></th>\n",
       "      <th></th>\n",
       "      <th></th>\n",
       "      <th></th>\n",
       "      <th></th>\n",
       "      <th></th>\n",
       "      <th></th>\n",
       "      <th></th>\n",
       "      <th></th>\n",
       "      <th></th>\n",
       "      <th></th>\n",
       "      <th></th>\n",
       "      <th></th>\n",
       "      <th></th>\n",
       "    </tr>\n",
       "  </thead>\n",
       "  <tbody>\n",
       "    <tr>\n",
       "      <th>0</th>\n",
       "      <td>64</td>\n",
       "      <td>F</td>\n",
       "      <td>YES</td>\n",
       "      <td>3.0</td>\n",
       "      <td>0.0</td>\n",
       "      <td>0</td>\n",
       "      <td>0</td>\n",
       "      <td>0</td>\n",
       "      <td>221.0</td>\n",
       "      <td>148.0</td>\n",
       "      <td>85.0</td>\n",
       "      <td>NaN</td>\n",
       "      <td>90.0</td>\n",
       "      <td>80.0</td>\n",
       "      <td>1</td>\n",
       "      <td>False</td>\n",
       "    </tr>\n",
       "    <tr>\n",
       "      <th>1</th>\n",
       "      <td>36</td>\n",
       "      <td>M</td>\n",
       "      <td>NO</td>\n",
       "      <td>0.0</td>\n",
       "      <td>0.0</td>\n",
       "      <td>0</td>\n",
       "      <td>1</td>\n",
       "      <td>0</td>\n",
       "      <td>212.0</td>\n",
       "      <td>168.0</td>\n",
       "      <td>98.0</td>\n",
       "      <td>29.77</td>\n",
       "      <td>72.0</td>\n",
       "      <td>75.0</td>\n",
       "      <td>0</td>\n",
       "      <td>False</td>\n",
       "    </tr>\n",
       "    <tr>\n",
       "      <th>2</th>\n",
       "      <td>46</td>\n",
       "      <td>F</td>\n",
       "      <td>YES</td>\n",
       "      <td>10.0</td>\n",
       "      <td>0.0</td>\n",
       "      <td>0</td>\n",
       "      <td>0</td>\n",
       "      <td>0</td>\n",
       "      <td>250.0</td>\n",
       "      <td>116.0</td>\n",
       "      <td>71.0</td>\n",
       "      <td>20.35</td>\n",
       "      <td>88.0</td>\n",
       "      <td>94.0</td>\n",
       "      <td>0</td>\n",
       "      <td>False</td>\n",
       "    </tr>\n",
       "    <tr>\n",
       "      <th>3</th>\n",
       "      <td>50</td>\n",
       "      <td>M</td>\n",
       "      <td>YES</td>\n",
       "      <td>20.0</td>\n",
       "      <td>0.0</td>\n",
       "      <td>0</td>\n",
       "      <td>1</td>\n",
       "      <td>0</td>\n",
       "      <td>233.0</td>\n",
       "      <td>158.0</td>\n",
       "      <td>88.0</td>\n",
       "      <td>28.26</td>\n",
       "      <td>68.0</td>\n",
       "      <td>94.0</td>\n",
       "      <td>1</td>\n",
       "      <td>False</td>\n",
       "    </tr>\n",
       "    <tr>\n",
       "      <th>4</th>\n",
       "      <td>64</td>\n",
       "      <td>F</td>\n",
       "      <td>YES</td>\n",
       "      <td>30.0</td>\n",
       "      <td>0.0</td>\n",
       "      <td>0</td>\n",
       "      <td>0</td>\n",
       "      <td>0</td>\n",
       "      <td>241.0</td>\n",
       "      <td>136.5</td>\n",
       "      <td>85.0</td>\n",
       "      <td>26.42</td>\n",
       "      <td>70.0</td>\n",
       "      <td>77.0</td>\n",
       "      <td>0</td>\n",
       "      <td>False</td>\n",
       "    </tr>\n",
       "    <tr>\n",
       "      <th>5</th>\n",
       "      <td>61</td>\n",
       "      <td>F</td>\n",
       "      <td>NO</td>\n",
       "      <td>0.0</td>\n",
       "      <td>0.0</td>\n",
       "      <td>0</td>\n",
       "      <td>1</td>\n",
       "      <td>0</td>\n",
       "      <td>272.0</td>\n",
       "      <td>182.0</td>\n",
       "      <td>121.0</td>\n",
       "      <td>32.80</td>\n",
       "      <td>85.0</td>\n",
       "      <td>65.0</td>\n",
       "      <td>1</td>\n",
       "      <td>False</td>\n",
       "    </tr>\n",
       "    <tr>\n",
       "      <th>6</th>\n",
       "      <td>61</td>\n",
       "      <td>M</td>\n",
       "      <td>NO</td>\n",
       "      <td>0.0</td>\n",
       "      <td>0.0</td>\n",
       "      <td>0</td>\n",
       "      <td>1</td>\n",
       "      <td>0</td>\n",
       "      <td>238.0</td>\n",
       "      <td>232.0</td>\n",
       "      <td>136.0</td>\n",
       "      <td>24.83</td>\n",
       "      <td>75.0</td>\n",
       "      <td>79.0</td>\n",
       "      <td>0</td>\n",
       "      <td>False</td>\n",
       "    </tr>\n",
       "    <tr>\n",
       "      <th>7</th>\n",
       "      <td>36</td>\n",
       "      <td>M</td>\n",
       "      <td>YES</td>\n",
       "      <td>35.0</td>\n",
       "      <td>0.0</td>\n",
       "      <td>0</td>\n",
       "      <td>0</td>\n",
       "      <td>0</td>\n",
       "      <td>295.0</td>\n",
       "      <td>102.0</td>\n",
       "      <td>68.0</td>\n",
       "      <td>28.15</td>\n",
       "      <td>60.0</td>\n",
       "      <td>63.0</td>\n",
       "      <td>0</td>\n",
       "      <td>False</td>\n",
       "    </tr>\n",
       "    <tr>\n",
       "      <th>8</th>\n",
       "      <td>41</td>\n",
       "      <td>F</td>\n",
       "      <td>YES</td>\n",
       "      <td>20.0</td>\n",
       "      <td>NaN</td>\n",
       "      <td>0</td>\n",
       "      <td>0</td>\n",
       "      <td>0</td>\n",
       "      <td>220.0</td>\n",
       "      <td>126.0</td>\n",
       "      <td>78.0</td>\n",
       "      <td>20.70</td>\n",
       "      <td>86.0</td>\n",
       "      <td>79.0</td>\n",
       "      <td>0</td>\n",
       "      <td>False</td>\n",
       "    </tr>\n",
       "    <tr>\n",
       "      <th>9</th>\n",
       "      <td>55</td>\n",
       "      <td>F</td>\n",
       "      <td>NO</td>\n",
       "      <td>0.0</td>\n",
       "      <td>0.0</td>\n",
       "      <td>0</td>\n",
       "      <td>1</td>\n",
       "      <td>0</td>\n",
       "      <td>326.0</td>\n",
       "      <td>144.0</td>\n",
       "      <td>81.0</td>\n",
       "      <td>25.71</td>\n",
       "      <td>85.0</td>\n",
       "      <td>78.0</td>\n",
       "      <td>0</td>\n",
       "      <td>True</td>\n",
       "    </tr>\n",
       "  </tbody>\n",
       "</table>\n",
       "</div>"
      ],
      "text/plain": [
       "    age sex is_smoking  cigs_per_day  bp_meds  prevalent_stroke  \\\n",
       "id                                                                \n",
       "0    64   F        YES           3.0      0.0                 0   \n",
       "1    36   M         NO           0.0      0.0                 0   \n",
       "2    46   F        YES          10.0      0.0                 0   \n",
       "3    50   M        YES          20.0      0.0                 0   \n",
       "4    64   F        YES          30.0      0.0                 0   \n",
       "5    61   F         NO           0.0      0.0                 0   \n",
       "6    61   M         NO           0.0      0.0                 0   \n",
       "7    36   M        YES          35.0      0.0                 0   \n",
       "8    41   F        YES          20.0      NaN                 0   \n",
       "9    55   F         NO           0.0      0.0                 0   \n",
       "\n",
       "    prevalent_hyp  diabetes  cholesterol  systolic_bp  diastolic_bp    bmi  \\\n",
       "id                                                                           \n",
       "0               0         0        221.0        148.0          85.0    NaN   \n",
       "1               1         0        212.0        168.0          98.0  29.77   \n",
       "2               0         0        250.0        116.0          71.0  20.35   \n",
       "3               1         0        233.0        158.0          88.0  28.26   \n",
       "4               0         0        241.0        136.5          85.0  26.42   \n",
       "5               1         0        272.0        182.0         121.0  32.80   \n",
       "6               1         0        238.0        232.0         136.0  24.83   \n",
       "7               0         0        295.0        102.0          68.0  28.15   \n",
       "8               0         0        220.0        126.0          78.0  20.70   \n",
       "9               1         0        326.0        144.0          81.0  25.71   \n",
       "\n",
       "    heart_rate  glucose  ten_year_chd  glucose_imputed  \n",
       "id                                                      \n",
       "0         90.0     80.0             1            False  \n",
       "1         72.0     75.0             0            False  \n",
       "2         88.0     94.0             0            False  \n",
       "3         68.0     94.0             1            False  \n",
       "4         70.0     77.0             0            False  \n",
       "5         85.0     65.0             1            False  \n",
       "6         75.0     79.0             0            False  \n",
       "7         60.0     63.0             0            False  \n",
       "8         86.0     79.0             0            False  \n",
       "9         85.0     78.0             0             True  "
      ]
     },
     "execution_count": 15,
     "metadata": {},
     "output_type": "execute_result"
    }
   ],
   "source": [
    "df['glucose_imputed'] = df['glucose'].isna()\n",
    "median_glucose = df['glucose'].median()\n",
    "df['glucose'].fillna(median_glucose, inplace=True)\n",
    "df.head(10)"
   ]
  },
  {
   "cell_type": "markdown",
   "id": "27cf72e2-43da-44a6-891e-6ae49905ddd4",
   "metadata": {},
   "source": [
    "I will now check what are the the observations with still missing values: the people with CHD or not."
   ]
  },
  {
   "cell_type": "code",
   "execution_count": 16,
   "id": "da585060-c7f8-4b6e-9ae3-13e6eaef4085",
   "metadata": {},
   "outputs": [
    {
     "data": {
      "text/html": [
       "<div>\n",
       "<style scoped>\n",
       "    .dataframe tbody tr th:only-of-type {\n",
       "        vertical-align: middle;\n",
       "    }\n",
       "\n",
       "    .dataframe tbody tr th {\n",
       "        vertical-align: top;\n",
       "    }\n",
       "\n",
       "    .dataframe thead th {\n",
       "        text-align: right;\n",
       "    }\n",
       "</style>\n",
       "<table border=\"1\" class=\"dataframe\">\n",
       "  <thead>\n",
       "    <tr style=\"text-align: right;\">\n",
       "      <th></th>\n",
       "      <th>Feature</th>\n",
       "      <th>CHD = 0</th>\n",
       "      <th>CHD = 1</th>\n",
       "    </tr>\n",
       "  </thead>\n",
       "  <tbody>\n",
       "    <tr>\n",
       "      <th>0</th>\n",
       "      <td>cigs_per_day</td>\n",
       "      <td>21</td>\n",
       "      <td>1</td>\n",
       "    </tr>\n",
       "    <tr>\n",
       "      <th>1</th>\n",
       "      <td>bp_meds</td>\n",
       "      <td>37</td>\n",
       "      <td>7</td>\n",
       "    </tr>\n",
       "    <tr>\n",
       "      <th>2</th>\n",
       "      <td>cholesterol</td>\n",
       "      <td>31</td>\n",
       "      <td>7</td>\n",
       "    </tr>\n",
       "    <tr>\n",
       "      <th>3</th>\n",
       "      <td>bmi</td>\n",
       "      <td>7</td>\n",
       "      <td>7</td>\n",
       "    </tr>\n",
       "    <tr>\n",
       "      <th>4</th>\n",
       "      <td>heart_rate</td>\n",
       "      <td>0</td>\n",
       "      <td>1</td>\n",
       "    </tr>\n",
       "  </tbody>\n",
       "</table>\n",
       "</div>"
      ],
      "text/plain": [
       "        Feature  CHD = 0  CHD = 1\n",
       "0  cigs_per_day       21        1\n",
       "1       bp_meds       37        7\n",
       "2   cholesterol       31        7\n",
       "3           bmi        7        7\n",
       "4    heart_rate        0        1"
      ]
     },
     "execution_count": 16,
     "metadata": {},
     "output_type": "execute_result"
    }
   ],
   "source": [
    "results = []\n",
    "\n",
    "features_with_na = ['cigs_per_day',\n",
    "                    'bp_meds',\n",
    "                    'cholesterol',\n",
    "                    'bmi',\n",
    "                    'heart_rate']\n",
    "\n",
    "for feature in features_with_na:\n",
    "    df_missing = df[df[feature].isna()]\n",
    "    chd_counts = df_missing['ten_year_chd'].value_counts()\n",
    "    results_dict = {'Feature': feature,\n",
    "                    'CHD = 0': chd_counts.get(0, 0),\n",
    "                    'CHD = 1': chd_counts.get(1, 0)}\n",
    "    results.append(results_dict)\n",
    "\n",
    "missing_values_summary = pd.DataFrame(results)\n",
    "\n",
    "missing_values_summary"
   ]
  },
  {
   "cell_type": "code",
   "execution_count": 17,
   "id": "54437dbb-4a10-4327-beb1-3b3906aaec74",
   "metadata": {},
   "outputs": [
    {
     "data": {
      "text/plain": [
       "ten_year_chd\n",
       "0    2879\n",
       "1     511\n",
       "Name: count, dtype: int64"
      ]
     },
     "execution_count": 17,
     "metadata": {},
     "output_type": "execute_result"
    }
   ],
   "source": [
    "df['ten_year_chd'].value_counts()"
   ]
  },
  {
   "cell_type": "markdown",
   "id": "665e9945-49e6-4b9f-9354-2f417ab3ba86",
   "metadata": {},
   "source": [
    "If I drop all observations with missing values, I will loose 23 out of only 511 observations from people with chd (4.5% of positive labels). That is not good. I will better use imputation method not to loose any. I'll start with cigs_per_day."
   ]
  },
  {
   "cell_type": "code",
   "execution_count": 18,
   "id": "d4efdaab-5b30-45f6-96ca-97cf5941556b",
   "metadata": {},
   "outputs": [
    {
     "data": {
      "text/plain": [
       "is_smoking\n",
       "NO     1703\n",
       "YES    1687\n",
       "Name: count, dtype: int64"
      ]
     },
     "execution_count": 18,
     "metadata": {},
     "output_type": "execute_result"
    }
   ],
   "source": [
    "df['is_smoking'].value_counts()"
   ]
  },
  {
   "cell_type": "code",
   "execution_count": 19,
   "id": "55e138e7-ca36-4d5f-b1d9-908c4eca9d2c",
   "metadata": {},
   "outputs": [
    {
     "data": {
      "text/plain": [
       "False"
      ]
     },
     "execution_count": 19,
     "metadata": {},
     "output_type": "execute_result"
    }
   ],
   "source": [
    "non_smokers = df[df['is_smoking'] == 'NO']\n",
    "non_smokers['cigs_per_day'].isna().any()"
   ]
  },
  {
   "cell_type": "markdown",
   "id": "8ff9b7f5-adc5-4498-acff-ced17f9581d3",
   "metadata": {},
   "source": [
    "Number of cigarettes per day is missing for a person who is smoking. I will check the distribution and stats for cigarettes per day for smokers only to decide which value to impute."
   ]
  },
  {
   "cell_type": "code",
   "execution_count": 20,
   "id": "0024fa5d-7c27-4e53-9252-8fc56879f35f",
   "metadata": {},
   "outputs": [
    {
     "data": {
      "image/png": "[encoded data removed]",
      "text/plain": [
       "<Figure size 600x300 with 1 Axes>"
      ]
     },
     "metadata": {
      "needs_background": "light"
     },
     "output_type": "display_data"
    }
   ],
   "source": [
    "smokers = df[df['is_smoking'] == 'YES']\n",
    "sns.histplot(smokers['cigs_per_day'].dropna(), bins=10, kde=True)\n",
    "plt.title('Distribution of Cigarettes per Day for Smokers');"
   ]
  },
  {
   "cell_type": "code",
   "execution_count": 21,
   "id": "0554c4d0-19af-4af3-9a0f-83081fd5b15f",
   "metadata": {},
   "outputs": [
    {
     "data": {
      "text/plain": [
       "count    1665.000000\n",
       "mean       18.345946\n",
       "std        10.735196\n",
       "min         1.000000\n",
       "25%        10.000000\n",
       "50%        20.000000\n",
       "75%        20.000000\n",
       "max        70.000000\n",
       "Name: cigs_per_day, dtype: float64"
      ]
     },
     "execution_count": 21,
     "metadata": {},
     "output_type": "execute_result"
    }
   ],
   "source": [
    "smokers['cigs_per_day'].describe()"
   ]
  },
  {
   "cell_type": "code",
   "execution_count": 22,
   "id": "69617646-6ad6-4bda-ab67-f58e18ec2a98",
   "metadata": {},
   "outputs": [
    {
     "data": {
      "text/plain": [
       "0    20.0\n",
       "Name: cigs_per_day, dtype: float64"
      ]
     },
     "execution_count": 22,
     "metadata": {},
     "output_type": "execute_result"
    }
   ],
   "source": [
    "smokers['cigs_per_day'].mode()"
   ]
  },
  {
   "cell_type": "markdown",
   "id": "ebcaf92c-30fe-4858-bc76-d0d83ee98908",
   "metadata": {},
   "source": [
    "Distribution is skewed. Mode and median are equal to 20, so I will impute with this value."
   ]
  },
  {
   "cell_type": "code",
   "execution_count": 23,
   "id": "f9ee23d4-ce89-43a8-a4a5-f74d3bc1bfb4",
   "metadata": {},
   "outputs": [
    {
     "data": {
      "text/plain": [
       "False"
      ]
     },
     "execution_count": 23,
     "metadata": {},
     "output_type": "execute_result"
    }
   ],
   "source": [
    "df['cigs_per_day_imputed'] = df['cigs_per_day'].isna()\n",
    "median_cigs_per_day = df['cigs_per_day'].median()\n",
    "df['cigs_per_day'].fillna(median_cigs_per_day, inplace=True)\n",
    "df['cigs_per_day'].isna().any()"
   ]
  },
  {
   "cell_type": "markdown",
   "id": "52430f39-dfc3-473e-83bd-bf4c241fb888",
   "metadata": {},
   "source": [
    "Next, bp_meds."
   ]
  },
  {
   "cell_type": "code",
   "execution_count": 24,
   "id": "10728bca-aefb-4e43-a400-cdece96f5896",
   "metadata": {},
   "outputs": [
    {
     "data": {
      "text/plain": [
       "bp_meds\n",
       "0.0    3246\n",
       "1.0     100\n",
       "Name: count, dtype: int64"
      ]
     },
     "execution_count": 24,
     "metadata": {},
     "output_type": "execute_result"
    }
   ],
   "source": [
    "df['bp_meds'].value_counts()"
   ]
  },
  {
   "cell_type": "code",
   "execution_count": 25,
   "id": "e61b7d81-5254-444b-8566-9e5df81c4c81",
   "metadata": {},
   "outputs": [
    {
     "data": {
      "text/plain": [
       "0.0"
      ]
     },
     "execution_count": 25,
     "metadata": {},
     "output_type": "execute_result"
    }
   ],
   "source": [
    "mode_bp_meds = df['bp_meds'].mode()[0]\n",
    "mode_bp_meds"
   ]
  },
  {
   "cell_type": "markdown",
   "id": "348b1ea8-6b43-4e05-b64f-64aadc398490",
   "metadata": {},
   "source": [
    "If a person was on blood pressure medicine has only 1 or 0 values. I will impute with the most frequent value - 0."
   ]
  },
  {
   "cell_type": "code",
   "execution_count": 26,
   "id": "9eea4d65-197d-4923-8d5c-c94e9ac2a8ed",
   "metadata": {},
   "outputs": [
    {
     "data": {
      "text/plain": [
       "False"
      ]
     },
     "execution_count": 26,
     "metadata": {},
     "output_type": "execute_result"
    }
   ],
   "source": [
    "df['bp_meds_imputed'] = df['bp_meds'].isna()\n",
    "df['bp_meds'].fillna(mode_bp_meds, inplace=True)\n",
    "df['bp_meds'].isna().any()"
   ]
  },
  {
   "cell_type": "markdown",
   "id": "5f695983-4f33-4408-a1c8-f582c0081120",
   "metadata": {},
   "source": [
    "Now it's turn for cholesterol."
   ]
  },
  {
   "cell_type": "code",
   "execution_count": 27,
   "id": "47d9fe1b-0161-4095-943d-512250a934b7",
   "metadata": {},
   "outputs": [
    {
     "data": {
      "image/png": "[encoded data removed]",
      "text/plain": [
       "<Figure size 600x300 with 1 Axes>"
      ]
     },
     "metadata": {
      "needs_background": "light"
     },
     "output_type": "display_data"
    }
   ],
   "source": [
    "sns.histplot(df['cholesterol'].dropna(), bins=10, kde=True)\n",
    "plt.title('Distribution of Cholesterol Levels');"
   ]
  },
  {
   "cell_type": "code",
   "execution_count": 28,
   "id": "0ba612c6-8315-4303-92d2-0270742f93ef",
   "metadata": {},
   "outputs": [
    {
     "data": {
      "text/plain": [
       "count    3352.000000\n",
       "mean      237.074284\n",
       "std        45.247430\n",
       "min       107.000000\n",
       "25%       206.000000\n",
       "50%       234.000000\n",
       "75%       264.000000\n",
       "max       696.000000\n",
       "Name: cholesterol, dtype: float64"
      ]
     },
     "execution_count": 28,
     "metadata": {},
     "output_type": "execute_result"
    }
   ],
   "source": [
    "df['cholesterol'].describe()"
   ]
  },
  {
   "cell_type": "code",
   "execution_count": 29,
   "id": "3907863f-aee3-4145-8947-2b8f681754d0",
   "metadata": {},
   "outputs": [
    {
     "data": {
      "text/plain": [
       "0    240.0\n",
       "Name: cholesterol, dtype: float64"
      ]
     },
     "execution_count": 29,
     "metadata": {},
     "output_type": "execute_result"
    }
   ],
   "source": [
    "df['cholesterol'].mode()"
   ]
  },
  {
   "cell_type": "markdown",
   "id": "257690d3-475c-40a5-bdd6-7ca008d7bcdf",
   "metadata": {},
   "source": [
    "Distribution is skewed, median is 234 while the most frequent value is 240. Since there are a lot of different values for cholesterol level, I will use median for imputation."
   ]
  },
  {
   "cell_type": "code",
   "execution_count": 30,
   "id": "5603c876-2271-4cb4-86d1-0ac9bddde315",
   "metadata": {},
   "outputs": [
    {
     "data": {
      "text/plain": [
       "False"
      ]
     },
     "execution_count": 30,
     "metadata": {},
     "output_type": "execute_result"
    }
   ],
   "source": [
    "df['cholesterol_imputed'] = df['cholesterol'].isna()\n",
    "median_cholesterol = df['cholesterol'].median()\n",
    "df['cholesterol'].fillna(median_cholesterol, inplace=True)\n",
    "df['cholesterol'].isna().any()"
   ]
  },
  {
   "cell_type": "markdown",
   "id": "96f30752-2345-415c-92ce-f794b6e79354",
   "metadata": {},
   "source": [
    "Now I'll deal with missing values for bmi."
   ]
  },
  {
   "cell_type": "code",
   "execution_count": 31,
   "id": "86b54d98-77f1-48c8-9d68-d0a3535d1d8d",
   "metadata": {},
   "outputs": [
    {
     "data": {
      "image/png": "[encoded data removed]",
      "text/plain": [
       "<Figure size 600x300 with 1 Axes>"
      ]
     },
     "metadata": {
      "needs_background": "light"
     },
     "output_type": "display_data"
    }
   ],
   "source": [
    "sns.histplot(df['bmi'].dropna(), bins=10, kde=True)\n",
    "plt.title('Distribution of BMI');"
   ]
  },
  {
   "cell_type": "code",
   "execution_count": 32,
   "id": "03af4e5b-1de4-4b90-a8f5-84d6832db682",
   "metadata": {},
   "outputs": [
    {
     "data": {
      "text/plain": [
       "count    3376.000000\n",
       "mean       25.794964\n",
       "std         4.115449\n",
       "min        15.960000\n",
       "25%        23.020000\n",
       "50%        25.380000\n",
       "75%        28.040000\n",
       "max        56.800000\n",
       "Name: bmi, dtype: float64"
      ]
     },
     "execution_count": 32,
     "metadata": {},
     "output_type": "execute_result"
    }
   ],
   "source": [
    "df['bmi'].describe()"
   ]
  },
  {
   "cell_type": "code",
   "execution_count": 33,
   "id": "aeb51837-d51e-4a93-b139-3ff9ccd6aa1f",
   "metadata": {},
   "outputs": [
    {
     "data": {
      "text/plain": [
       "0    22.91\n",
       "Name: bmi, dtype: float64"
      ]
     },
     "execution_count": 33,
     "metadata": {},
     "output_type": "execute_result"
    }
   ],
   "source": [
    "df['bmi'].mode()"
   ]
  },
  {
   "cell_type": "markdown",
   "id": "3f2bbf29-33c8-45c5-86cd-573bf06fe061",
   "metadata": {},
   "source": [
    "Same as with cholesterol level, distribution of bmi is skewed and it has a lot of different values. Median will work for imputation best."
   ]
  },
  {
   "cell_type": "code",
   "execution_count": 34,
   "id": "6dafc720-528e-4f60-b02c-f235bd527ebf",
   "metadata": {},
   "outputs": [
    {
     "data": {
      "text/plain": [
       "False"
      ]
     },
     "execution_count": 34,
     "metadata": {},
     "output_type": "execute_result"
    }
   ],
   "source": [
    "df['bmi_imputed'] = df['bmi'].isna()\n",
    "median_bmi = df['bmi'].median()\n",
    "df['bmi'].fillna(median_bmi, inplace=True)\n",
    "df['bmi'].isna().any()"
   ]
  },
  {
   "cell_type": "markdown",
   "id": "a94bf534-2a7c-4132-ad96-9e4623d59753",
   "metadata": {},
   "source": [
    "Lastly, heart rate."
   ]
  },
  {
   "cell_type": "code",
   "execution_count": 35,
   "id": "44c9975e-3f09-40e6-ae4a-f418f322a44c",
   "metadata": {},
   "outputs": [
    {
     "data": {
      "image/png": "[encoded data removed]",
      "text/plain": [
       "<Figure size 600x300 with 1 Axes>"
      ]
     },
     "metadata": {
      "needs_background": "light"
     },
     "output_type": "display_data"
    }
   ],
   "source": [
    "sns.histplot(df['heart_rate'].dropna(), bins=10, kde=True)\n",
    "plt.title('Distribution of Heart Rate');"
   ]
  },
  {
   "cell_type": "code",
   "execution_count": 36,
   "id": "42156892-5615-4420-a500-3bcfa13d498a",
   "metadata": {},
   "outputs": [
    {
     "data": {
      "text/plain": [
       "count    3389.000000\n",
       "mean       75.977279\n",
       "std        11.971868\n",
       "min        45.000000\n",
       "25%        68.000000\n",
       "50%        75.000000\n",
       "75%        83.000000\n",
       "max       143.000000\n",
       "Name: heart_rate, dtype: float64"
      ]
     },
     "execution_count": 36,
     "metadata": {},
     "output_type": "execute_result"
    }
   ],
   "source": [
    "df['heart_rate'].describe()"
   ]
  },
  {
   "cell_type": "code",
   "execution_count": 37,
   "id": "59850fbc-4a5c-44a6-8525-105794f468d6",
   "metadata": {},
   "outputs": [
    {
     "data": {
      "text/plain": [
       "0    75.0\n",
       "Name: heart_rate, dtype: float64"
      ]
     },
     "execution_count": 37,
     "metadata": {},
     "output_type": "execute_result"
    }
   ],
   "source": [
    "df['heart_rate'].mode()"
   ]
  },
  {
   "cell_type": "markdown",
   "id": "29f273a9-a82e-4da4-9494-bc08c5214555",
   "metadata": {},
   "source": [
    "Median and mode match. I will impute missing heart rate values with median."
   ]
  },
  {
   "cell_type": "code",
   "execution_count": 38,
   "id": "7ac94a9b-35f2-4542-a6dd-9f157a51335b",
   "metadata": {},
   "outputs": [
    {
     "data": {
      "text/plain": [
       "age                     False\n",
       "sex                     False\n",
       "is_smoking              False\n",
       "cigs_per_day            False\n",
       "bp_meds                 False\n",
       "prevalent_stroke        False\n",
       "prevalent_hyp           False\n",
       "diabetes                False\n",
       "cholesterol             False\n",
       "systolic_bp             False\n",
       "diastolic_bp            False\n",
       "bmi                     False\n",
       "heart_rate              False\n",
       "glucose                 False\n",
       "ten_year_chd            False\n",
       "glucose_imputed         False\n",
       "cigs_per_day_imputed    False\n",
       "bp_meds_imputed         False\n",
       "cholesterol_imputed     False\n",
       "bmi_imputed             False\n",
       "heart_rate_imputed      False\n",
       "dtype: bool"
      ]
     },
     "execution_count": 38,
     "metadata": {},
     "output_type": "execute_result"
    }
   ],
   "source": [
    "df['heart_rate_imputed'] = df['heart_rate'].isna()\n",
    "median_heart_rate = df['heart_rate'].median()\n",
    "df['heart_rate'].fillna(median_heart_rate, inplace=True)\n",
    "df.isna().any()"
   ]
  },
  {
   "cell_type": "markdown",
   "id": "c1e3e787-3c01-48c6-bbd8-0f3aefd57f2d",
   "metadata": {},
   "source": [
    "No missing values left. Great!"
   ]
  },
  {
   "cell_type": "markdown",
   "id": "2093d24d-695f-43d3-85eb-f7d83021ebe7",
   "metadata": {},
   "source": [
    "I will now check if there are any issues with data in columns based on their data type."
   ]
  },
  {
   "cell_type": "code",
   "execution_count": 39,
   "id": "750973be-89f8-46f4-a3e1-33508e04477a",
   "metadata": {},
   "outputs": [
    {
     "data": {
      "text/plain": [
       "age                       int64\n",
       "sex                      object\n",
       "is_smoking               object\n",
       "cigs_per_day            float64\n",
       "bp_meds                 float64\n",
       "prevalent_stroke          int64\n",
       "prevalent_hyp             int64\n",
       "diabetes                  int64\n",
       "cholesterol             float64\n",
       "systolic_bp             float64\n",
       "diastolic_bp            float64\n",
       "bmi                     float64\n",
       "heart_rate              float64\n",
       "glucose                 float64\n",
       "ten_year_chd              int64\n",
       "glucose_imputed            bool\n",
       "cigs_per_day_imputed       bool\n",
       "bp_meds_imputed            bool\n",
       "cholesterol_imputed        bool\n",
       "bmi_imputed                bool\n",
       "heart_rate_imputed         bool\n",
       "dtype: object"
      ]
     },
     "execution_count": 39,
     "metadata": {},
     "output_type": "execute_result"
    }
   ],
   "source": [
    "df.dtypes"
   ]
  },
  {
   "cell_type": "markdown",
   "id": "acc5e536-460a-40c5-b1da-9bbf05cf0f3e",
   "metadata": {},
   "source": [
    "bp_meds is a binary column. Since no missing values left, I will convert it to int."
   ]
  },
  {
   "cell_type": "code",
   "execution_count": 40,
   "id": "884a4120-dd6e-4287-99da-d86eb36efae3",
   "metadata": {},
   "outputs": [],
   "source": [
    "df['bp_meds'] = df['bp_meds'].astype('int64')"
   ]
  },
  {
   "cell_type": "markdown",
   "id": "a5ba7067-0c7c-47a2-a1da-a51c1d3001a9",
   "metadata": {},
   "source": [
    "I will now look at categorical data: sex and is_smoking."
   ]
  },
  {
   "cell_type": "code",
   "execution_count": 41,
   "id": "e8c36110-705e-4bd2-9582-8da3c538be87",
   "metadata": {},
   "outputs": [
    {
     "data": {
      "text/plain": [
       "sex\n",
       "F    1923\n",
       "M    1467\n",
       "Name: count, dtype: int64"
      ]
     },
     "execution_count": 41,
     "metadata": {},
     "output_type": "execute_result"
    }
   ],
   "source": [
    "df['sex'].value_counts()"
   ]
  },
  {
   "cell_type": "code",
   "execution_count": 42,
   "id": "17441f3a-99e8-411c-968e-db771224a2d5",
   "metadata": {},
   "outputs": [
    {
     "data": {
      "text/plain": [
       "is_smoking\n",
       "NO     1703\n",
       "YES    1687\n",
       "Name: count, dtype: int64"
      ]
     },
     "execution_count": 42,
     "metadata": {},
     "output_type": "execute_result"
    }
   ],
   "source": [
    "df['is_smoking'].value_counts()"
   ]
  },
  {
   "cell_type": "markdown",
   "id": "841d1ba4-5ce4-4e9c-910d-9df35d4dcfbb",
   "metadata": {},
   "source": [
    "Sex and if a person is smoking have only valid values. Great! Both of them repesent only 1 of 2 values, which makes it very easy to convert them to binary which will be needed for modelling. This will be done in EDA."
   ]
  },
  {
   "cell_type": "code",
   "execution_count": 43,
   "id": "bd056845-4d1a-4364-880e-d0f3503f48f2",
   "metadata": {},
   "outputs": [
    {
     "data": {
      "text/plain": [
       "cigs_per_day\n",
       "0.0    1703\n",
       "Name: count, dtype: int64"
      ]
     },
     "execution_count": 43,
     "metadata": {},
     "output_type": "execute_result"
    }
   ],
   "source": [
    "non_smokers['cigs_per_day'].value_counts()"
   ]
  },
  {
   "cell_type": "markdown",
   "id": "80e39716-5ab9-45fd-9cc0-4907c9335b84",
   "metadata": {},
   "source": [
    "The number of cigarettes per day for each non-smoker is 0. No issues."
   ]
  },
  {
   "cell_type": "markdown",
   "id": "90205c5a-991c-4702-8abf-055d00329800",
   "metadata": {},
   "source": [
    "Next, binary and numeric data."
   ]
  },
  {
   "cell_type": "code",
   "execution_count": 44,
   "id": "4c07c4f4-9ad9-4ca8-bdb0-6b59dcfad87e",
   "metadata": {},
   "outputs": [
    {
     "data": {
      "text/html": [
       "<div>\n",
       "<style scoped>\n",
       "    .dataframe tbody tr th:only-of-type {\n",
       "        vertical-align: middle;\n",
       "    }\n",
       "\n",
       "    .dataframe tbody tr th {\n",
       "        vertical-align: top;\n",
       "    }\n",
       "\n",
       "    .dataframe thead th {\n",
       "        text-align: right;\n",
       "    }\n",
       "</style>\n",
       "<table border=\"1\" class=\"dataframe\">\n",
       "  <thead>\n",
       "    <tr style=\"text-align: right;\">\n",
       "      <th></th>\n",
       "      <th>age</th>\n",
       "      <th>cigs_per_day</th>\n",
       "      <th>bp_meds</th>\n",
       "      <th>prevalent_stroke</th>\n",
       "      <th>prevalent_hyp</th>\n",
       "      <th>diabetes</th>\n",
       "      <th>cholesterol</th>\n",
       "      <th>systolic_bp</th>\n",
       "      <th>diastolic_bp</th>\n",
       "      <th>bmi</th>\n",
       "      <th>heart_rate</th>\n",
       "      <th>glucose</th>\n",
       "      <th>ten_year_chd</th>\n",
       "    </tr>\n",
       "  </thead>\n",
       "  <tbody>\n",
       "    <tr>\n",
       "      <th>count</th>\n",
       "      <td>3390.00</td>\n",
       "      <td>3390.00</td>\n",
       "      <td>3390.00</td>\n",
       "      <td>3390.00</td>\n",
       "      <td>3390.00</td>\n",
       "      <td>3390.00</td>\n",
       "      <td>3390.00</td>\n",
       "      <td>3390.00</td>\n",
       "      <td>3390.00</td>\n",
       "      <td>3390.00</td>\n",
       "      <td>3390.00</td>\n",
       "      <td>3390.00</td>\n",
       "      <td>3390.00</td>\n",
       "    </tr>\n",
       "    <tr>\n",
       "      <th>mean</th>\n",
       "      <td>49.54</td>\n",
       "      <td>9.01</td>\n",
       "      <td>0.03</td>\n",
       "      <td>0.01</td>\n",
       "      <td>0.32</td>\n",
       "      <td>0.03</td>\n",
       "      <td>237.04</td>\n",
       "      <td>132.60</td>\n",
       "      <td>82.88</td>\n",
       "      <td>25.79</td>\n",
       "      <td>75.98</td>\n",
       "      <td>81.72</td>\n",
       "      <td>0.15</td>\n",
       "    </tr>\n",
       "    <tr>\n",
       "      <th>std</th>\n",
       "      <td>8.59</td>\n",
       "      <td>11.86</td>\n",
       "      <td>0.17</td>\n",
       "      <td>0.08</td>\n",
       "      <td>0.46</td>\n",
       "      <td>0.16</td>\n",
       "      <td>44.99</td>\n",
       "      <td>22.29</td>\n",
       "      <td>12.02</td>\n",
       "      <td>4.11</td>\n",
       "      <td>11.97</td>\n",
       "      <td>23.16</td>\n",
       "      <td>0.36</td>\n",
       "    </tr>\n",
       "    <tr>\n",
       "      <th>min</th>\n",
       "      <td>32.00</td>\n",
       "      <td>0.00</td>\n",
       "      <td>0.00</td>\n",
       "      <td>0.00</td>\n",
       "      <td>0.00</td>\n",
       "      <td>0.00</td>\n",
       "      <td>107.00</td>\n",
       "      <td>83.50</td>\n",
       "      <td>48.00</td>\n",
       "      <td>15.96</td>\n",
       "      <td>45.00</td>\n",
       "      <td>40.00</td>\n",
       "      <td>0.00</td>\n",
       "    </tr>\n",
       "    <tr>\n",
       "      <th>25%</th>\n",
       "      <td>42.00</td>\n",
       "      <td>0.00</td>\n",
       "      <td>0.00</td>\n",
       "      <td>0.00</td>\n",
       "      <td>0.00</td>\n",
       "      <td>0.00</td>\n",
       "      <td>206.00</td>\n",
       "      <td>117.00</td>\n",
       "      <td>74.50</td>\n",
       "      <td>23.03</td>\n",
       "      <td>68.00</td>\n",
       "      <td>72.00</td>\n",
       "      <td>0.00</td>\n",
       "    </tr>\n",
       "    <tr>\n",
       "      <th>50%</th>\n",
       "      <td>49.00</td>\n",
       "      <td>0.00</td>\n",
       "      <td>0.00</td>\n",
       "      <td>0.00</td>\n",
       "      <td>0.00</td>\n",
       "      <td>0.00</td>\n",
       "      <td>234.00</td>\n",
       "      <td>128.50</td>\n",
       "      <td>82.00</td>\n",
       "      <td>25.38</td>\n",
       "      <td>75.00</td>\n",
       "      <td>78.00</td>\n",
       "      <td>0.00</td>\n",
       "    </tr>\n",
       "    <tr>\n",
       "      <th>75%</th>\n",
       "      <td>56.00</td>\n",
       "      <td>20.00</td>\n",
       "      <td>0.00</td>\n",
       "      <td>0.00</td>\n",
       "      <td>1.00</td>\n",
       "      <td>0.00</td>\n",
       "      <td>264.00</td>\n",
       "      <td>144.00</td>\n",
       "      <td>90.00</td>\n",
       "      <td>28.00</td>\n",
       "      <td>83.00</td>\n",
       "      <td>85.00</td>\n",
       "      <td>0.00</td>\n",
       "    </tr>\n",
       "    <tr>\n",
       "      <th>max</th>\n",
       "      <td>70.00</td>\n",
       "      <td>70.00</td>\n",
       "      <td>1.00</td>\n",
       "      <td>1.00</td>\n",
       "      <td>1.00</td>\n",
       "      <td>1.00</td>\n",
       "      <td>696.00</td>\n",
       "      <td>295.00</td>\n",
       "      <td>142.50</td>\n",
       "      <td>56.80</td>\n",
       "      <td>143.00</td>\n",
       "      <td>394.00</td>\n",
       "      <td>1.00</td>\n",
       "    </tr>\n",
       "  </tbody>\n",
       "</table>\n",
       "</div>"
      ],
      "text/plain": [
       "           age  cigs_per_day  bp_meds  prevalent_stroke  prevalent_hyp  \\\n",
       "count  3390.00       3390.00  3390.00           3390.00        3390.00   \n",
       "mean     49.54          9.01     0.03              0.01           0.32   \n",
       "std       8.59         11.86     0.17              0.08           0.46   \n",
       "min      32.00          0.00     0.00              0.00           0.00   \n",
       "25%      42.00          0.00     0.00              0.00           0.00   \n",
       "50%      49.00          0.00     0.00              0.00           0.00   \n",
       "75%      56.00         20.00     0.00              0.00           1.00   \n",
       "max      70.00         70.00     1.00              1.00           1.00   \n",
       "\n",
       "       diabetes  cholesterol  systolic_bp  diastolic_bp      bmi  heart_rate  \\\n",
       "count   3390.00      3390.00      3390.00       3390.00  3390.00     3390.00   \n",
       "mean       0.03       237.04       132.60         82.88    25.79       75.98   \n",
       "std        0.16        44.99        22.29         12.02     4.11       11.97   \n",
       "min        0.00       107.00        83.50         48.00    15.96       45.00   \n",
       "25%        0.00       206.00       117.00         74.50    23.03       68.00   \n",
       "50%        0.00       234.00       128.50         82.00    25.38       75.00   \n",
       "75%        0.00       264.00       144.00         90.00    28.00       83.00   \n",
       "max        1.00       696.00       295.00        142.50    56.80      143.00   \n",
       "\n",
       "       glucose  ten_year_chd  \n",
       "count  3390.00       3390.00  \n",
       "mean     81.72          0.15  \n",
       "std      23.16          0.36  \n",
       "min      40.00          0.00  \n",
       "25%      72.00          0.00  \n",
       "50%      78.00          0.00  \n",
       "75%      85.00          0.00  \n",
       "max     394.00          1.00  "
      ]
     },
     "execution_count": 44,
     "metadata": {},
     "output_type": "execute_result"
    }
   ],
   "source": [
    "df.describe().round(2)"
   ]
  },
  {
   "cell_type": "markdown",
   "id": "2b410b6d-094a-4c80-b096-a347a7ea28c0",
   "metadata": {},
   "source": [
    "- Age is from 32 to 70. All valid values.\n",
    "- Cigarettes per day has a very large value of 70. Will need to see if there is only one such huge value. Smoking 70 cigarettes per day should not be something common, but possible.\n",
    "- Binary column values are all 0s and 1s, no issues with values.\n",
    "- Cholesterol levels vary between 107 and 696. 696 mg/dL is a very high, but still possible value which indicates emergency situation.\n",
    "- Systolic BP varies between 83.50 and 295. 83.50 seems valid, but 295, again, indicates an emergency condition.\n",
    "-  Diastolic BP varies between 48 and 142.50. Same as cholesterol and systolic blood pressure max - 142.50 in diastolic blood pressure is an emergency situation.\n",
    "-  BMI is between 15.96 and 56.80. BMI above 40 is considered severe obesity, but 56.80 is not an impossible value.\n",
    "-  Heart rate is between 45 and 143. Heart rate is possible to be at 45 beats per minute when relaxed and it may rise to 143 when performing high physical activity. The dataset description does not say in which physical activity status the measurement was taken so I will assume that it is in regular state.\n",
    "-  Glucose level is between 40 and 394 in the dataset. Both, min and max values indicate emergency health conditions."
   ]
  },
  {
   "cell_type": "markdown",
   "id": "8593886f-e09d-4ecc-a474-b6b41b9887e6",
   "metadata": {},
   "source": [
    "Maybe the highest values belong to the same person?"
   ]
  },
  {
   "cell_type": "code",
   "execution_count": 45,
   "id": "7f815026-3b17-4332-9d12-c9d28f88bea4",
   "metadata": {},
   "outputs": [
    {
     "data": {
      "text/html": [
       "<div>\n",
       "<style scoped>\n",
       "    .dataframe tbody tr th:only-of-type {\n",
       "        vertical-align: middle;\n",
       "    }\n",
       "\n",
       "    .dataframe tbody tr th {\n",
       "        vertical-align: top;\n",
       "    }\n",
       "\n",
       "    .dataframe thead th {\n",
       "        text-align: right;\n",
       "    }\n",
       "</style>\n",
       "<table border=\"1\" class=\"dataframe\">\n",
       "  <thead>\n",
       "    <tr style=\"text-align: right;\">\n",
       "      <th></th>\n",
       "      <th>age</th>\n",
       "      <th>sex</th>\n",
       "      <th>is_smoking</th>\n",
       "      <th>cigs_per_day</th>\n",
       "      <th>bp_meds</th>\n",
       "      <th>prevalent_stroke</th>\n",
       "      <th>prevalent_hyp</th>\n",
       "      <th>diabetes</th>\n",
       "      <th>cholesterol</th>\n",
       "      <th>systolic_bp</th>\n",
       "      <th>diastolic_bp</th>\n",
       "      <th>bmi</th>\n",
       "      <th>heart_rate</th>\n",
       "      <th>glucose</th>\n",
       "      <th>ten_year_chd</th>\n",
       "      <th>glucose_imputed</th>\n",
       "      <th>cigs_per_day_imputed</th>\n",
       "      <th>bp_meds_imputed</th>\n",
       "      <th>cholesterol_imputed</th>\n",
       "      <th>bmi_imputed</th>\n",
       "      <th>heart_rate_imputed</th>\n",
       "    </tr>\n",
       "    <tr>\n",
       "      <th>id</th>\n",
       "      <th></th>\n",
       "      <th></th>\n",
       "      <th></th>\n",
       "      <th></th>\n",
       "      <th></th>\n",
       "      <th></th>\n",
       "      <th></th>\n",
       "      <th></th>\n",
       "      <th></th>\n",
       "      <th></th>\n",
       "      <th></th>\n",
       "      <th></th>\n",
       "      <th></th>\n",
       "      <th></th>\n",
       "      <th></th>\n",
       "      <th></th>\n",
       "      <th></th>\n",
       "      <th></th>\n",
       "      <th></th>\n",
       "      <th></th>\n",
       "      <th></th>\n",
       "    </tr>\n",
       "  </thead>\n",
       "  <tbody>\n",
       "    <tr>\n",
       "      <th>512</th>\n",
       "      <td>51</td>\n",
       "      <td>M</td>\n",
       "      <td>YES</td>\n",
       "      <td>9.0</td>\n",
       "      <td>0</td>\n",
       "      <td>0</td>\n",
       "      <td>1</td>\n",
       "      <td>0</td>\n",
       "      <td>696.0</td>\n",
       "      <td>157.0</td>\n",
       "      <td>87.0</td>\n",
       "      <td>24.44</td>\n",
       "      <td>95.0</td>\n",
       "      <td>84.0</td>\n",
       "      <td>0</td>\n",
       "      <td>False</td>\n",
       "      <td>False</td>\n",
       "      <td>False</td>\n",
       "      <td>False</td>\n",
       "      <td>False</td>\n",
       "      <td>False</td>\n",
       "    </tr>\n",
       "    <tr>\n",
       "      <th>1032</th>\n",
       "      <td>67</td>\n",
       "      <td>F</td>\n",
       "      <td>NO</td>\n",
       "      <td>0.0</td>\n",
       "      <td>1</td>\n",
       "      <td>0</td>\n",
       "      <td>1</td>\n",
       "      <td>1</td>\n",
       "      <td>303.0</td>\n",
       "      <td>204.0</td>\n",
       "      <td>96.0</td>\n",
       "      <td>27.86</td>\n",
       "      <td>75.0</td>\n",
       "      <td>394.0</td>\n",
       "      <td>1</td>\n",
       "      <td>False</td>\n",
       "      <td>False</td>\n",
       "      <td>False</td>\n",
       "      <td>False</td>\n",
       "      <td>False</td>\n",
       "      <td>False</td>\n",
       "    </tr>\n",
       "    <tr>\n",
       "      <th>1200</th>\n",
       "      <td>55</td>\n",
       "      <td>F</td>\n",
       "      <td>NO</td>\n",
       "      <td>0.0</td>\n",
       "      <td>0</td>\n",
       "      <td>0</td>\n",
       "      <td>1</td>\n",
       "      <td>0</td>\n",
       "      <td>208.0</td>\n",
       "      <td>190.0</td>\n",
       "      <td>130.0</td>\n",
       "      <td>56.80</td>\n",
       "      <td>90.0</td>\n",
       "      <td>86.0</td>\n",
       "      <td>1</td>\n",
       "      <td>False</td>\n",
       "      <td>False</td>\n",
       "      <td>False</td>\n",
       "      <td>False</td>\n",
       "      <td>False</td>\n",
       "      <td>False</td>\n",
       "    </tr>\n",
       "    <tr>\n",
       "      <th>1587</th>\n",
       "      <td>62</td>\n",
       "      <td>M</td>\n",
       "      <td>NO</td>\n",
       "      <td>0.0</td>\n",
       "      <td>0</td>\n",
       "      <td>0</td>\n",
       "      <td>0</td>\n",
       "      <td>1</td>\n",
       "      <td>346.0</td>\n",
       "      <td>102.5</td>\n",
       "      <td>66.5</td>\n",
       "      <td>17.17</td>\n",
       "      <td>80.0</td>\n",
       "      <td>394.0</td>\n",
       "      <td>1</td>\n",
       "      <td>False</td>\n",
       "      <td>False</td>\n",
       "      <td>False</td>\n",
       "      <td>False</td>\n",
       "      <td>False</td>\n",
       "      <td>False</td>\n",
       "    </tr>\n",
       "    <tr>\n",
       "      <th>1941</th>\n",
       "      <td>64</td>\n",
       "      <td>F</td>\n",
       "      <td>NO</td>\n",
       "      <td>0.0</td>\n",
       "      <td>0</td>\n",
       "      <td>0</td>\n",
       "      <td>1</td>\n",
       "      <td>0</td>\n",
       "      <td>253.0</td>\n",
       "      <td>295.0</td>\n",
       "      <td>135.0</td>\n",
       "      <td>38.82</td>\n",
       "      <td>92.0</td>\n",
       "      <td>70.0</td>\n",
       "      <td>1</td>\n",
       "      <td>False</td>\n",
       "      <td>False</td>\n",
       "      <td>False</td>\n",
       "      <td>False</td>\n",
       "      <td>False</td>\n",
       "      <td>False</td>\n",
       "    </tr>\n",
       "    <tr>\n",
       "      <th>2325</th>\n",
       "      <td>48</td>\n",
       "      <td>F</td>\n",
       "      <td>NO</td>\n",
       "      <td>0.0</td>\n",
       "      <td>0</td>\n",
       "      <td>0</td>\n",
       "      <td>1</td>\n",
       "      <td>0</td>\n",
       "      <td>169.0</td>\n",
       "      <td>243.0</td>\n",
       "      <td>142.5</td>\n",
       "      <td>28.49</td>\n",
       "      <td>85.0</td>\n",
       "      <td>77.0</td>\n",
       "      <td>0</td>\n",
       "      <td>False</td>\n",
       "      <td>False</td>\n",
       "      <td>False</td>\n",
       "      <td>False</td>\n",
       "      <td>False</td>\n",
       "      <td>False</td>\n",
       "    </tr>\n",
       "    <tr>\n",
       "      <th>2985</th>\n",
       "      <td>40</td>\n",
       "      <td>M</td>\n",
       "      <td>YES</td>\n",
       "      <td>70.0</td>\n",
       "      <td>0</td>\n",
       "      <td>0</td>\n",
       "      <td>1</td>\n",
       "      <td>0</td>\n",
       "      <td>210.0</td>\n",
       "      <td>132.0</td>\n",
       "      <td>86.0</td>\n",
       "      <td>31.57</td>\n",
       "      <td>98.0</td>\n",
       "      <td>80.0</td>\n",
       "      <td>0</td>\n",
       "      <td>False</td>\n",
       "      <td>False</td>\n",
       "      <td>False</td>\n",
       "      <td>False</td>\n",
       "      <td>False</td>\n",
       "      <td>False</td>\n",
       "    </tr>\n",
       "  </tbody>\n",
       "</table>\n",
       "</div>"
      ],
      "text/plain": [
       "      age sex is_smoking  cigs_per_day  bp_meds  prevalent_stroke  \\\n",
       "id                                                                  \n",
       "512    51   M        YES           9.0        0                 0   \n",
       "1032   67   F         NO           0.0        1                 0   \n",
       "1200   55   F         NO           0.0        0                 0   \n",
       "1587   62   M         NO           0.0        0                 0   \n",
       "1941   64   F         NO           0.0        0                 0   \n",
       "2325   48   F         NO           0.0        0                 0   \n",
       "2985   40   M        YES          70.0        0                 0   \n",
       "\n",
       "      prevalent_hyp  diabetes  cholesterol  systolic_bp  diastolic_bp    bmi  \\\n",
       "id                                                                             \n",
       "512               1         0        696.0        157.0          87.0  24.44   \n",
       "1032              1         1        303.0        204.0          96.0  27.86   \n",
       "1200              1         0        208.0        190.0         130.0  56.80   \n",
       "1587              0         1        346.0        102.5          66.5  17.17   \n",
       "1941              1         0        253.0        295.0         135.0  38.82   \n",
       "2325              1         0        169.0        243.0         142.5  28.49   \n",
       "2985              1         0        210.0        132.0          86.0  31.57   \n",
       "\n",
       "      heart_rate  glucose  ten_year_chd  glucose_imputed  \\\n",
       "id                                                         \n",
       "512         95.0     84.0             0            False   \n",
       "1032        75.0    394.0             1            False   \n",
       "1200        90.0     86.0             1            False   \n",
       "1587        80.0    394.0             1            False   \n",
       "1941        92.0     70.0             1            False   \n",
       "2325        85.0     77.0             0            False   \n",
       "2985        98.0     80.0             0            False   \n",
       "\n",
       "      cigs_per_day_imputed  bp_meds_imputed  cholesterol_imputed  bmi_imputed  \\\n",
       "id                                                                              \n",
       "512                  False            False                False        False   \n",
       "1032                 False            False                False        False   \n",
       "1200                 False            False                False        False   \n",
       "1587                 False            False                False        False   \n",
       "1941                 False            False                False        False   \n",
       "2325                 False            False                False        False   \n",
       "2985                 False            False                False        False   \n",
       "\n",
       "      heart_rate_imputed  \n",
       "id                        \n",
       "512                False  \n",
       "1032               False  \n",
       "1200               False  \n",
       "1587               False  \n",
       "1941               False  \n",
       "2325               False  \n",
       "2985               False  "
      ]
     },
     "execution_count": 45,
     "metadata": {},
     "output_type": "execute_result"
    }
   ],
   "source": [
    "df[\n",
    "   (df['cigs_per_day'] == 70) | \n",
    "   (df['cholesterol'] == 696) |\n",
    "   (df['systolic_bp'] == 295) |\n",
    "   (df['diastolic_bp'] == 142.50) |\n",
    "   (df['bmi'] == 56.80) |\n",
    "   (df['glucose'] == 394)\n",
    "]"
   ]
  },
  {
   "cell_type": "markdown",
   "id": "c66687bd-3373-4ae6-9c95-271f7a6c0c70",
   "metadata": {},
   "source": [
    "No, each extreme max value belongs to a different person. And there are 2 people with max glucose value. No rows that would be necessary to remove at this point."
   ]
  },
  {
   "cell_type": "markdown",
   "id": "717ee9ed-226e-4e45-b996-481f2e870909",
   "metadata": {},
   "source": [
    "<br>\n",
    "\n",
    "This leaves me with the following after data cleaning step:\n",
    "- Dataset with 3390 rows with no missing values\n",
    "- All 511 positive labels preserved by imputing missing values\n",
    "- 14 features to possibly add to the model of predicting ten_year_chd:\n",
    "  - 2 categorical: sex and is_smoking (to be converted to binary)\n",
    "  - 4 binary: bp_meds, prevalent_stroke, prevalent_hyp and diabetes\n",
    "  - 8 numeric: age, cigs_per_day, cholesterol, systolic_bp, diastolic_bp, bmi, heart_rate and glucose"
   ]
  },
  {
   "cell_type": "markdown",
   "id": "ea2dbc9f-860f-4900-8c9a-25a6b3568130",
   "metadata": {},
   "source": [
    "<br>\n",
    "\n",
    "## Exploratory Data Analysis"
   ]
  },
  {
   "cell_type": "markdown",
   "id": "6e566d67-e041-4fb7-9520-0165763ed710",
   "metadata": {},
   "source": [
    "I will look at the distribution of 10 year risk of coronary heart disease."
   ]
  },
  {
   "cell_type": "code",
   "execution_count": 46,
   "id": "183636c8-8186-4e20-a6d3-f6a74dc50cff",
   "metadata": {},
   "outputs": [
    {
     "data": {
      "image/png": "[encoded data removed]",
      "text/plain": [
       "<Figure size 600x300 with 1 Axes>"
      ]
     },
     "metadata": {
      "needs_background": "light"
     },
     "output_type": "display_data"
    }
   ],
   "source": [
    "sns.countplot(x='ten_year_chd', hue='ten_year_chd', data=df, legend=False)\n",
    "\n",
    "plt.xlabel('0 for No, 1 for Yes')\n",
    "plt.ylabel('Count')\n",
    "plt.title('Distribution of Has CHD');"
   ]
  },
  {
   "cell_type": "markdown",
   "id": "3802bf54-fa5b-4344-b9a2-c12f9411fa0a",
   "metadata": {},
   "source": [
    "Distribution of values is not even: 6 times less people have coronary heart disease than not. Classes are imbalanced. This means that accuracy is not going to be the best metric to optimise for when modelling."
   ]
  },
  {
   "cell_type": "markdown",
   "id": "b920683c-ca0a-456e-bc36-7b3c1bec4c77",
   "metadata": {},
   "source": [
    "I will now explore how well the dataset represents population demographically."
   ]
  },
  {
   "cell_type": "code",
   "execution_count": 47,
   "id": "85f45aa5-a5c3-4805-80e9-603c1d471b4c",
   "metadata": {},
   "outputs": [
    {
     "data": {
      "image/png": "[encoded data removed]",
      "text/plain": [
       "<Figure size 600x300 with 1 Axes>"
      ]
     },
     "metadata": {},
     "output_type": "display_data"
    }
   ],
   "source": [
    "sex_counts = df['sex'].value_counts()\n",
    "plt.pie(sex_counts, labels=sex_counts.index, autopct='%1.1f%%', startangle=90)\n",
    "plt.title('Distribution of Sex');"
   ]
  },
  {
   "cell_type": "markdown",
   "id": "0519eebd-ebda-4ddf-aef8-b8fa8b145244",
   "metadata": {},
   "source": [
    "By [online resources](https://www.citypopulation.de/en/usa/massachusetts/middlesex/2524960__framingham/), Framingham, Massachusets population is 49% male and 51% female. In our dataset females are represented more. To account for the difference, weighting technique could be used in modelling."
   ]
  },
  {
   "cell_type": "code",
   "execution_count": 48,
   "id": "c6b89c5c-846b-445a-a69c-e03b2518c008",
   "metadata": {},
   "outputs": [
    {
     "data": {
      "image/png": "[encoded data removed]",
      "text/plain": [
       "<Figure size 600x300 with 1 Axes>"
      ]
     },
     "metadata": {
      "needs_background": "light"
     },
     "output_type": "display_data"
    }
   ],
   "source": [
    "sns.histplot(df.age, bins=4, kde=True)\n",
    "plt.title('Distribution of Age');"
   ]
  },
  {
   "cell_type": "markdown",
   "id": "18d9de70-efe4-4ba4-99b9-bb8eb264da89",
   "metadata": {},
   "source": [
    "Again, by [online resourses](https://www.citypopulation.de/en/usa/massachusetts/middlesex/2524960__framingham/) teh biggest difference of the dataset vs actual population is the 60-70 age group. This age group is underepresented in the dataset. Min age in the dataset is 32 which means that all younger ages are omitted. I will assume it is very unlikely to have CHD at young age and that is why younger group not being represented is not creating a problem with modelling."
   ]
  },
  {
   "cell_type": "markdown",
   "id": "0509dbae-ff9e-4d86-a547-6199a3924dce",
   "metadata": {},
   "source": [
    "I'll look into the distribution of binary features."
   ]
  },
  {
   "cell_type": "code",
   "execution_count": 49,
   "id": "2a02209f-2c03-4d88-9c61-cc11a3dd5c4c",
   "metadata": {},
   "outputs": [
    {
     "data": {
      "image/png": "[encoded data removed]",
      "text/plain": [
       "<Figure size 2000x300 with 4 Axes>"
      ]
     },
     "metadata": {},
     "output_type": "display_data"
    }
   ],
   "source": [
    "binary_features = ['bp_meds',\n",
    "                   'prevalent_stroke',\n",
    "                   'prevalent_hyp',\n",
    "                   'diabetes']\n",
    "\n",
    "titles = ['Has Been on Blood Pressure Meds vs Not',\n",
    "          'Has Had a Stroke vs Not',\n",
    "          'Has Had Hypertension vs Not',\n",
    "          'Has Had Diabetes vs Not']\n",
    "\n",
    "fig, axs = plt.subplots(1, 4, figsize=(20, 3))\n",
    "\n",
    "for i, var in enumerate(binary_features):\n",
    "    counts = df[var].value_counts()\n",
    "    axs[i].pie(counts, labels=counts.index, autopct='%1.1f%%', startangle=90)\n",
    "    axs[i].set_title(titles[i])"
   ]
  },
  {
   "cell_type": "code",
   "execution_count": 50,
   "id": "afaafc94-e084-46b2-b854-93d2547e4b56",
   "metadata": {},
   "outputs": [
    {
     "data": {
      "text/plain": [
       "prevalent_stroke\n",
       "0    3368\n",
       "1      22\n",
       "Name: count, dtype: int64"
      ]
     },
     "execution_count": 50,
     "metadata": {},
     "output_type": "execute_result"
    }
   ],
   "source": [
    "df['prevalent_stroke'].value_counts()"
   ]
  },
  {
   "cell_type": "markdown",
   "id": "a2da4ccc-53e6-41cb-a93a-5d91ecfddb1b",
   "metadata": {},
   "source": [
    "Only 22 out of 3390 cases had a stroke. Prevalent stroke feature will need to be interpreted cautiously."
   ]
  },
  {
   "cell_type": "markdown",
   "id": "29f68182-1f4e-430e-ab53-e6d00ea4a840",
   "metadata": {},
   "source": [
    "Now I'll explore the distribution of the rest of numeric features."
   ]
  },
  {
   "cell_type": "code",
   "execution_count": 51,
   "id": "e53c94a2-ce12-4d3c-9727-733fb6952629",
   "metadata": {},
   "outputs": [
    {
     "data": {
      "image/png": "[encoded data removed]",
      "text/plain": [
       "<Figure size 2000x800 with 8 Axes>"
      ]
     },
     "metadata": {
      "needs_background": "light"
     },
     "output_type": "display_data"
    }
   ],
   "source": [
    "numeric_features = ['cigs_per_day',\n",
    "                    'cholesterol',\n",
    "                    'systolic_bp',\n",
    "                    'diastolic_bp',\n",
    "                    'bmi',\n",
    "                    'heart_rate',\n",
    "                    'glucose']\n",
    "\n",
    "df[numeric_features].hist(bins=20, figsize=(20, 8), layout=(2, 4));"
   ]
  },
  {
   "cell_type": "markdown",
   "id": "1037d435-27b0-431c-8e14-e8b68494c7a6",
   "metadata": {},
   "source": [
    "All of them seem to have some level of skewness. I will apply log transformation."
   ]
  },
  {
   "cell_type": "code",
   "execution_count": 52,
   "id": "d9ec6e41-88ed-460d-9edf-9afc3dee75c8",
   "metadata": {},
   "outputs": [
    {
     "data": {
      "text/html": [
       "<div>\n",
       "<style scoped>\n",
       "    .dataframe tbody tr th:only-of-type {\n",
       "        vertical-align: middle;\n",
       "    }\n",
       "\n",
       "    .dataframe tbody tr th {\n",
       "        vertical-align: top;\n",
       "    }\n",
       "\n",
       "    .dataframe thead th {\n",
       "        text-align: right;\n",
       "    }\n",
       "</style>\n",
       "<table border=\"1\" class=\"dataframe\">\n",
       "  <thead>\n",
       "    <tr style=\"text-align: right;\">\n",
       "      <th></th>\n",
       "      <th>age</th>\n",
       "      <th>sex</th>\n",
       "      <th>is_smoking</th>\n",
       "      <th>cigs_per_day</th>\n",
       "      <th>bp_meds</th>\n",
       "      <th>prevalent_stroke</th>\n",
       "      <th>prevalent_hyp</th>\n",
       "      <th>diabetes</th>\n",
       "      <th>cholesterol</th>\n",
       "      <th>systolic_bp</th>\n",
       "      <th>diastolic_bp</th>\n",
       "      <th>bmi</th>\n",
       "      <th>heart_rate</th>\n",
       "      <th>glucose</th>\n",
       "      <th>ten_year_chd</th>\n",
       "      <th>glucose_imputed</th>\n",
       "      <th>cigs_per_day_imputed</th>\n",
       "      <th>bp_meds_imputed</th>\n",
       "      <th>cholesterol_imputed</th>\n",
       "      <th>bmi_imputed</th>\n",
       "      <th>heart_rate_imputed</th>\n",
       "      <th>cigs_per_day_log</th>\n",
       "      <th>cholesterol_log</th>\n",
       "      <th>systolic_bp_log</th>\n",
       "      <th>diastolic_bp_log</th>\n",
       "      <th>bmi_log</th>\n",
       "      <th>heart_rate_log</th>\n",
       "      <th>glucose_log</th>\n",
       "    </tr>\n",
       "    <tr>\n",
       "      <th>id</th>\n",
       "      <th></th>\n",
       "      <th></th>\n",
       "      <th></th>\n",
       "      <th></th>\n",
       "      <th></th>\n",
       "      <th></th>\n",
       "      <th></th>\n",
       "      <th></th>\n",
       "      <th></th>\n",
       "      <th></th>\n",
       "      <th></th>\n",
       "      <th></th>\n",
       "      <th></th>\n",
       "      <th></th>\n",
       "      <th></th>\n",
       "      <th></th>\n",
       "      <th></th>\n",
       "      <th></th>\n",
       "      <th></th>\n",
       "      <th></th>\n",
       "      <th></th>\n",
       "      <th></th>\n",
       "      <th></th>\n",
       "      <th></th>\n",
       "      <th></th>\n",
       "      <th></th>\n",
       "      <th></th>\n",
       "      <th></th>\n",
       "    </tr>\n",
       "  </thead>\n",
       "  <tbody>\n",
       "    <tr>\n",
       "      <th>0</th>\n",
       "      <td>64</td>\n",
       "      <td>F</td>\n",
       "      <td>YES</td>\n",
       "      <td>3.0</td>\n",
       "      <td>0</td>\n",
       "      <td>0</td>\n",
       "      <td>0</td>\n",
       "      <td>0</td>\n",
       "      <td>221.0</td>\n",
       "      <td>148.0</td>\n",
       "      <td>85.0</td>\n",
       "      <td>25.38</td>\n",
       "      <td>90.0</td>\n",
       "      <td>80.0</td>\n",
       "      <td>1</td>\n",
       "      <td>False</td>\n",
       "      <td>False</td>\n",
       "      <td>False</td>\n",
       "      <td>False</td>\n",
       "      <td>True</td>\n",
       "      <td>False</td>\n",
       "      <td>1.386294</td>\n",
       "      <td>5.402677</td>\n",
       "      <td>5.003946</td>\n",
       "      <td>4.454347</td>\n",
       "      <td>3.272606</td>\n",
       "      <td>4.510860</td>\n",
       "      <td>4.394449</td>\n",
       "    </tr>\n",
       "    <tr>\n",
       "      <th>1</th>\n",
       "      <td>36</td>\n",
       "      <td>M</td>\n",
       "      <td>NO</td>\n",
       "      <td>0.0</td>\n",
       "      <td>0</td>\n",
       "      <td>0</td>\n",
       "      <td>1</td>\n",
       "      <td>0</td>\n",
       "      <td>212.0</td>\n",
       "      <td>168.0</td>\n",
       "      <td>98.0</td>\n",
       "      <td>29.77</td>\n",
       "      <td>72.0</td>\n",
       "      <td>75.0</td>\n",
       "      <td>0</td>\n",
       "      <td>False</td>\n",
       "      <td>False</td>\n",
       "      <td>False</td>\n",
       "      <td>False</td>\n",
       "      <td>False</td>\n",
       "      <td>False</td>\n",
       "      <td>0.000000</td>\n",
       "      <td>5.361292</td>\n",
       "      <td>5.129899</td>\n",
       "      <td>4.595120</td>\n",
       "      <td>3.426540</td>\n",
       "      <td>4.290459</td>\n",
       "      <td>4.330733</td>\n",
       "    </tr>\n",
       "    <tr>\n",
       "      <th>2</th>\n",
       "      <td>46</td>\n",
       "      <td>F</td>\n",
       "      <td>YES</td>\n",
       "      <td>10.0</td>\n",
       "      <td>0</td>\n",
       "      <td>0</td>\n",
       "      <td>0</td>\n",
       "      <td>0</td>\n",
       "      <td>250.0</td>\n",
       "      <td>116.0</td>\n",
       "      <td>71.0</td>\n",
       "      <td>20.35</td>\n",
       "      <td>88.0</td>\n",
       "      <td>94.0</td>\n",
       "      <td>0</td>\n",
       "      <td>False</td>\n",
       "      <td>False</td>\n",
       "      <td>False</td>\n",
       "      <td>False</td>\n",
       "      <td>False</td>\n",
       "      <td>False</td>\n",
       "      <td>2.397895</td>\n",
       "      <td>5.525453</td>\n",
       "      <td>4.762174</td>\n",
       "      <td>4.276666</td>\n",
       "      <td>3.061052</td>\n",
       "      <td>4.488636</td>\n",
       "      <td>4.553877</td>\n",
       "    </tr>\n",
       "    <tr>\n",
       "      <th>3</th>\n",
       "      <td>50</td>\n",
       "      <td>M</td>\n",
       "      <td>YES</td>\n",
       "      <td>20.0</td>\n",
       "      <td>0</td>\n",
       "      <td>0</td>\n",
       "      <td>1</td>\n",
       "      <td>0</td>\n",
       "      <td>233.0</td>\n",
       "      <td>158.0</td>\n",
       "      <td>88.0</td>\n",
       "      <td>28.26</td>\n",
       "      <td>68.0</td>\n",
       "      <td>94.0</td>\n",
       "      <td>1</td>\n",
       "      <td>False</td>\n",
       "      <td>False</td>\n",
       "      <td>False</td>\n",
       "      <td>False</td>\n",
       "      <td>False</td>\n",
       "      <td>False</td>\n",
       "      <td>3.044522</td>\n",
       "      <td>5.455321</td>\n",
       "      <td>5.068904</td>\n",
       "      <td>4.488636</td>\n",
       "      <td>3.376221</td>\n",
       "      <td>4.234107</td>\n",
       "      <td>4.553877</td>\n",
       "    </tr>\n",
       "    <tr>\n",
       "      <th>4</th>\n",
       "      <td>64</td>\n",
       "      <td>F</td>\n",
       "      <td>YES</td>\n",
       "      <td>30.0</td>\n",
       "      <td>0</td>\n",
       "      <td>0</td>\n",
       "      <td>0</td>\n",
       "      <td>0</td>\n",
       "      <td>241.0</td>\n",
       "      <td>136.5</td>\n",
       "      <td>85.0</td>\n",
       "      <td>26.42</td>\n",
       "      <td>70.0</td>\n",
       "      <td>77.0</td>\n",
       "      <td>0</td>\n",
       "      <td>False</td>\n",
       "      <td>False</td>\n",
       "      <td>False</td>\n",
       "      <td>False</td>\n",
       "      <td>False</td>\n",
       "      <td>False</td>\n",
       "      <td>3.433987</td>\n",
       "      <td>5.488938</td>\n",
       "      <td>4.923624</td>\n",
       "      <td>4.454347</td>\n",
       "      <td>3.311273</td>\n",
       "      <td>4.262680</td>\n",
       "      <td>4.356709</td>\n",
       "    </tr>\n",
       "  </tbody>\n",
       "</table>\n",
       "</div>"
      ],
      "text/plain": [
       "    age sex is_smoking  cigs_per_day  bp_meds  prevalent_stroke  \\\n",
       "id                                                                \n",
       "0    64   F        YES           3.0        0                 0   \n",
       "1    36   M         NO           0.0        0                 0   \n",
       "2    46   F        YES          10.0        0                 0   \n",
       "3    50   M        YES          20.0        0                 0   \n",
       "4    64   F        YES          30.0        0                 0   \n",
       "\n",
       "    prevalent_hyp  diabetes  cholesterol  systolic_bp  diastolic_bp    bmi  \\\n",
       "id                                                                           \n",
       "0               0         0        221.0        148.0          85.0  25.38   \n",
       "1               1         0        212.0        168.0          98.0  29.77   \n",
       "2               0         0        250.0        116.0          71.0  20.35   \n",
       "3               1         0        233.0        158.0          88.0  28.26   \n",
       "4               0         0        241.0        136.5          85.0  26.42   \n",
       "\n",
       "    heart_rate  glucose  ten_year_chd  glucose_imputed  cigs_per_day_imputed  \\\n",
       "id                                                                             \n",
       "0         90.0     80.0             1            False                 False   \n",
       "1         72.0     75.0             0            False                 False   \n",
       "2         88.0     94.0             0            False                 False   \n",
       "3         68.0     94.0             1            False                 False   \n",
       "4         70.0     77.0             0            False                 False   \n",
       "\n",
       "    bp_meds_imputed  cholesterol_imputed  bmi_imputed  heart_rate_imputed  \\\n",
       "id                                                                          \n",
       "0             False                False         True               False   \n",
       "1             False                False        False               False   \n",
       "2             False                False        False               False   \n",
       "3             False                False        False               False   \n",
       "4             False                False        False               False   \n",
       "\n",
       "    cigs_per_day_log  cholesterol_log  systolic_bp_log  diastolic_bp_log  \\\n",
       "id                                                                         \n",
       "0           1.386294         5.402677         5.003946          4.454347   \n",
       "1           0.000000         5.361292         5.129899          4.595120   \n",
       "2           2.397895         5.525453         4.762174          4.276666   \n",
       "3           3.044522         5.455321         5.068904          4.488636   \n",
       "4           3.433987         5.488938         4.923624          4.454347   \n",
       "\n",
       "     bmi_log  heart_rate_log  glucose_log  \n",
       "id                                         \n",
       "0   3.272606        4.510860     4.394449  \n",
       "1   3.426540        4.290459     4.330733  \n",
       "2   3.061052        4.488636     4.553877  \n",
       "3   3.376221        4.234107     4.553877  \n",
       "4   3.311273        4.262680     4.356709  "
      ]
     },
     "execution_count": 52,
     "metadata": {},
     "output_type": "execute_result"
    }
   ],
   "source": [
    "for feature in numeric_features:\n",
    "    df[f'{feature}_log'] = np.log(df[feature] + 1)\n",
    "\n",
    "df.head()"
   ]
  },
  {
   "cell_type": "markdown",
   "id": "144c8487-dedc-4faf-a3a6-46dc6db1ab44",
   "metadata": {},
   "source": [
    "Before jumping to correlations, I'll transform categorical features to binary."
   ]
  },
  {
   "cell_type": "code",
   "execution_count": 53,
   "id": "f830c87e-8881-4095-bded-ad7fffbf75a4",
   "metadata": {},
   "outputs": [
    {
     "data": {
      "text/html": [
       "<div>\n",
       "<style scoped>\n",
       "    .dataframe tbody tr th:only-of-type {\n",
       "        vertical-align: middle;\n",
       "    }\n",
       "\n",
       "    .dataframe tbody tr th {\n",
       "        vertical-align: top;\n",
       "    }\n",
       "\n",
       "    .dataframe thead th {\n",
       "        text-align: right;\n",
       "    }\n",
       "</style>\n",
       "<table border=\"1\" class=\"dataframe\">\n",
       "  <thead>\n",
       "    <tr style=\"text-align: right;\">\n",
       "      <th></th>\n",
       "      <th>age</th>\n",
       "      <th>sex</th>\n",
       "      <th>is_smoking</th>\n",
       "      <th>cigs_per_day</th>\n",
       "      <th>bp_meds</th>\n",
       "      <th>prevalent_stroke</th>\n",
       "      <th>prevalent_hyp</th>\n",
       "      <th>diabetes</th>\n",
       "      <th>cholesterol</th>\n",
       "      <th>systolic_bp</th>\n",
       "      <th>diastolic_bp</th>\n",
       "      <th>bmi</th>\n",
       "      <th>heart_rate</th>\n",
       "      <th>glucose</th>\n",
       "      <th>ten_year_chd</th>\n",
       "      <th>glucose_imputed</th>\n",
       "      <th>cigs_per_day_imputed</th>\n",
       "      <th>bp_meds_imputed</th>\n",
       "      <th>cholesterol_imputed</th>\n",
       "      <th>bmi_imputed</th>\n",
       "      <th>heart_rate_imputed</th>\n",
       "      <th>cigs_per_day_log</th>\n",
       "      <th>cholesterol_log</th>\n",
       "      <th>systolic_bp_log</th>\n",
       "      <th>diastolic_bp_log</th>\n",
       "      <th>bmi_log</th>\n",
       "      <th>heart_rate_log</th>\n",
       "      <th>glucose_log</th>\n",
       "      <th>smoker</th>\n",
       "      <th>female</th>\n",
       "    </tr>\n",
       "    <tr>\n",
       "      <th>id</th>\n",
       "      <th></th>\n",
       "      <th></th>\n",
       "      <th></th>\n",
       "      <th></th>\n",
       "      <th></th>\n",
       "      <th></th>\n",
       "      <th></th>\n",
       "      <th></th>\n",
       "      <th></th>\n",
       "      <th></th>\n",
       "      <th></th>\n",
       "      <th></th>\n",
       "      <th></th>\n",
       "      <th></th>\n",
       "      <th></th>\n",
       "      <th></th>\n",
       "      <th></th>\n",
       "      <th></th>\n",
       "      <th></th>\n",
       "      <th></th>\n",
       "      <th></th>\n",
       "      <th></th>\n",
       "      <th></th>\n",
       "      <th></th>\n",
       "      <th></th>\n",
       "      <th></th>\n",
       "      <th></th>\n",
       "      <th></th>\n",
       "      <th></th>\n",
       "      <th></th>\n",
       "    </tr>\n",
       "  </thead>\n",
       "  <tbody>\n",
       "    <tr>\n",
       "      <th>0</th>\n",
       "      <td>64</td>\n",
       "      <td>F</td>\n",
       "      <td>YES</td>\n",
       "      <td>3.0</td>\n",
       "      <td>0</td>\n",
       "      <td>0</td>\n",
       "      <td>0</td>\n",
       "      <td>0</td>\n",
       "      <td>221.0</td>\n",
       "      <td>148.0</td>\n",
       "      <td>85.0</td>\n",
       "      <td>25.38</td>\n",
       "      <td>90.0</td>\n",
       "      <td>80.0</td>\n",
       "      <td>1</td>\n",
       "      <td>False</td>\n",
       "      <td>False</td>\n",
       "      <td>False</td>\n",
       "      <td>False</td>\n",
       "      <td>True</td>\n",
       "      <td>False</td>\n",
       "      <td>1.386294</td>\n",
       "      <td>5.402677</td>\n",
       "      <td>5.003946</td>\n",
       "      <td>4.454347</td>\n",
       "      <td>3.272606</td>\n",
       "      <td>4.510860</td>\n",
       "      <td>4.394449</td>\n",
       "      <td>1</td>\n",
       "      <td>1</td>\n",
       "    </tr>\n",
       "    <tr>\n",
       "      <th>1</th>\n",
       "      <td>36</td>\n",
       "      <td>M</td>\n",
       "      <td>NO</td>\n",
       "      <td>0.0</td>\n",
       "      <td>0</td>\n",
       "      <td>0</td>\n",
       "      <td>1</td>\n",
       "      <td>0</td>\n",
       "      <td>212.0</td>\n",
       "      <td>168.0</td>\n",
       "      <td>98.0</td>\n",
       "      <td>29.77</td>\n",
       "      <td>72.0</td>\n",
       "      <td>75.0</td>\n",
       "      <td>0</td>\n",
       "      <td>False</td>\n",
       "      <td>False</td>\n",
       "      <td>False</td>\n",
       "      <td>False</td>\n",
       "      <td>False</td>\n",
       "      <td>False</td>\n",
       "      <td>0.000000</td>\n",
       "      <td>5.361292</td>\n",
       "      <td>5.129899</td>\n",
       "      <td>4.595120</td>\n",
       "      <td>3.426540</td>\n",
       "      <td>4.290459</td>\n",
       "      <td>4.330733</td>\n",
       "      <td>0</td>\n",
       "      <td>0</td>\n",
       "    </tr>\n",
       "    <tr>\n",
       "      <th>2</th>\n",
       "      <td>46</td>\n",
       "      <td>F</td>\n",
       "      <td>YES</td>\n",
       "      <td>10.0</td>\n",
       "      <td>0</td>\n",
       "      <td>0</td>\n",
       "      <td>0</td>\n",
       "      <td>0</td>\n",
       "      <td>250.0</td>\n",
       "      <td>116.0</td>\n",
       "      <td>71.0</td>\n",
       "      <td>20.35</td>\n",
       "      <td>88.0</td>\n",
       "      <td>94.0</td>\n",
       "      <td>0</td>\n",
       "      <td>False</td>\n",
       "      <td>False</td>\n",
       "      <td>False</td>\n",
       "      <td>False</td>\n",
       "      <td>False</td>\n",
       "      <td>False</td>\n",
       "      <td>2.397895</td>\n",
       "      <td>5.525453</td>\n",
       "      <td>4.762174</td>\n",
       "      <td>4.276666</td>\n",
       "      <td>3.061052</td>\n",
       "      <td>4.488636</td>\n",
       "      <td>4.553877</td>\n",
       "      <td>1</td>\n",
       "      <td>1</td>\n",
       "    </tr>\n",
       "    <tr>\n",
       "      <th>3</th>\n",
       "      <td>50</td>\n",
       "      <td>M</td>\n",
       "      <td>YES</td>\n",
       "      <td>20.0</td>\n",
       "      <td>0</td>\n",
       "      <td>0</td>\n",
       "      <td>1</td>\n",
       "      <td>0</td>\n",
       "      <td>233.0</td>\n",
       "      <td>158.0</td>\n",
       "      <td>88.0</td>\n",
       "      <td>28.26</td>\n",
       "      <td>68.0</td>\n",
       "      <td>94.0</td>\n",
       "      <td>1</td>\n",
       "      <td>False</td>\n",
       "      <td>False</td>\n",
       "      <td>False</td>\n",
       "      <td>False</td>\n",
       "      <td>False</td>\n",
       "      <td>False</td>\n",
       "      <td>3.044522</td>\n",
       "      <td>5.455321</td>\n",
       "      <td>5.068904</td>\n",
       "      <td>4.488636</td>\n",
       "      <td>3.376221</td>\n",
       "      <td>4.234107</td>\n",
       "      <td>4.553877</td>\n",
       "      <td>1</td>\n",
       "      <td>0</td>\n",
       "    </tr>\n",
       "    <tr>\n",
       "      <th>4</th>\n",
       "      <td>64</td>\n",
       "      <td>F</td>\n",
       "      <td>YES</td>\n",
       "      <td>30.0</td>\n",
       "      <td>0</td>\n",
       "      <td>0</td>\n",
       "      <td>0</td>\n",
       "      <td>0</td>\n",
       "      <td>241.0</td>\n",
       "      <td>136.5</td>\n",
       "      <td>85.0</td>\n",
       "      <td>26.42</td>\n",
       "      <td>70.0</td>\n",
       "      <td>77.0</td>\n",
       "      <td>0</td>\n",
       "      <td>False</td>\n",
       "      <td>False</td>\n",
       "      <td>False</td>\n",
       "      <td>False</td>\n",
       "      <td>False</td>\n",
       "      <td>False</td>\n",
       "      <td>3.433987</td>\n",
       "      <td>5.488938</td>\n",
       "      <td>4.923624</td>\n",
       "      <td>4.454347</td>\n",
       "      <td>3.311273</td>\n",
       "      <td>4.262680</td>\n",
       "      <td>4.356709</td>\n",
       "      <td>1</td>\n",
       "      <td>1</td>\n",
       "    </tr>\n",
       "  </tbody>\n",
       "</table>\n",
       "</div>"
      ],
      "text/plain": [
       "    age sex is_smoking  cigs_per_day  bp_meds  prevalent_stroke  \\\n",
       "id                                                                \n",
       "0    64   F        YES           3.0        0                 0   \n",
       "1    36   M         NO           0.0        0                 0   \n",
       "2    46   F        YES          10.0        0                 0   \n",
       "3    50   M        YES          20.0        0                 0   \n",
       "4    64   F        YES          30.0        0                 0   \n",
       "\n",
       "    prevalent_hyp  diabetes  cholesterol  systolic_bp  diastolic_bp    bmi  \\\n",
       "id                                                                           \n",
       "0               0         0        221.0        148.0          85.0  25.38   \n",
       "1               1         0        212.0        168.0          98.0  29.77   \n",
       "2               0         0        250.0        116.0          71.0  20.35   \n",
       "3               1         0        233.0        158.0          88.0  28.26   \n",
       "4               0         0        241.0        136.5          85.0  26.42   \n",
       "\n",
       "    heart_rate  glucose  ten_year_chd  glucose_imputed  cigs_per_day_imputed  \\\n",
       "id                                                                             \n",
       "0         90.0     80.0             1            False                 False   \n",
       "1         72.0     75.0             0            False                 False   \n",
       "2         88.0     94.0             0            False                 False   \n",
       "3         68.0     94.0             1            False                 False   \n",
       "4         70.0     77.0             0            False                 False   \n",
       "\n",
       "    bp_meds_imputed  cholesterol_imputed  bmi_imputed  heart_rate_imputed  \\\n",
       "id                                                                          \n",
       "0             False                False         True               False   \n",
       "1             False                False        False               False   \n",
       "2             False                False        False               False   \n",
       "3             False                False        False               False   \n",
       "4             False                False        False               False   \n",
       "\n",
       "    cigs_per_day_log  cholesterol_log  systolic_bp_log  diastolic_bp_log  \\\n",
       "id                                                                         \n",
       "0           1.386294         5.402677         5.003946          4.454347   \n",
       "1           0.000000         5.361292         5.129899          4.595120   \n",
       "2           2.397895         5.525453         4.762174          4.276666   \n",
       "3           3.044522         5.455321         5.068904          4.488636   \n",
       "4           3.433987         5.488938         4.923624          4.454347   \n",
       "\n",
       "     bmi_log  heart_rate_log  glucose_log  smoker  female  \n",
       "id                                                         \n",
       "0   3.272606        4.510860     4.394449       1       1  \n",
       "1   3.426540        4.290459     4.330733       0       0  \n",
       "2   3.061052        4.488636     4.553877       1       1  \n",
       "3   3.376221        4.234107     4.553877       1       0  \n",
       "4   3.311273        4.262680     4.356709       1       1  "
      ]
     },
     "execution_count": 53,
     "metadata": {},
     "output_type": "execute_result"
    }
   ],
   "source": [
    "df['smoker'] = df['is_smoking'].map({'YES': 1, 'NO': 0})\n",
    "df['female'] = df['sex'].map({'F': 1, 'M': 0})\n",
    "\n",
    "df.head()"
   ]
  },
  {
   "cell_type": "markdown",
   "id": "b01ebc3c-1000-410e-9842-5bc494d49c22",
   "metadata": {},
   "source": [
    "Let's see if the features correlate with each other."
   ]
  },
  {
   "cell_type": "code",
   "execution_count": 54,
   "id": "6073a87d-cb7f-4127-8867-66da205e0395",
   "metadata": {},
   "outputs": [
    {
     "data": {
      "text/html": [
       "<div>\n",
       "<style scoped>\n",
       "    .dataframe tbody tr th:only-of-type {\n",
       "        vertical-align: middle;\n",
       "    }\n",
       "\n",
       "    .dataframe tbody tr th {\n",
       "        vertical-align: top;\n",
       "    }\n",
       "\n",
       "    .dataframe thead th {\n",
       "        text-align: right;\n",
       "    }\n",
       "</style>\n",
       "<table border=\"1\" class=\"dataframe\">\n",
       "  <thead>\n",
       "    <tr style=\"text-align: right;\">\n",
       "      <th></th>\n",
       "      <th>age</th>\n",
       "      <th>smoker</th>\n",
       "      <th>female</th>\n",
       "      <th>bp_meds</th>\n",
       "      <th>prevalent_stroke</th>\n",
       "      <th>prevalent_hyp</th>\n",
       "      <th>diabetes</th>\n",
       "      <th>cigs_per_day_log</th>\n",
       "      <th>cholesterol_log</th>\n",
       "      <th>systolic_bp_log</th>\n",
       "      <th>diastolic_bp_log</th>\n",
       "      <th>bmi_log</th>\n",
       "      <th>heart_rate_log</th>\n",
       "      <th>glucose_log</th>\n",
       "    </tr>\n",
       "  </thead>\n",
       "  <tbody>\n",
       "    <tr>\n",
       "      <th>age</th>\n",
       "      <td>1.000000</td>\n",
       "      <td>-0.210997</td>\n",
       "      <td>0.041882</td>\n",
       "      <td>0.122114</td>\n",
       "      <td>0.059038</td>\n",
       "      <td>0.308826</td>\n",
       "      <td>0.107875</td>\n",
       "      <td>-0.218908</td>\n",
       "      <td>0.284280</td>\n",
       "      <td>0.407648</td>\n",
       "      <td>0.219533</td>\n",
       "      <td>0.140739</td>\n",
       "      <td>-0.005544</td>\n",
       "      <td>0.119407</td>\n",
       "    </tr>\n",
       "    <tr>\n",
       "      <th>smoker</th>\n",
       "      <td>-0.210997</td>\n",
       "      <td>1.000000</td>\n",
       "      <td>-0.215485</td>\n",
       "      <td>-0.037533</td>\n",
       "      <td>-0.043703</td>\n",
       "      <td>-0.119325</td>\n",
       "      <td>-0.053333</td>\n",
       "      <td>0.928582</td>\n",
       "      <td>-0.049684</td>\n",
       "      <td>-0.147897</td>\n",
       "      <td>-0.127495</td>\n",
       "      <td>-0.176870</td>\n",
       "      <td>0.067216</td>\n",
       "      <td>-0.071017</td>\n",
       "    </tr>\n",
       "    <tr>\n",
       "      <th>female</th>\n",
       "      <td>0.041882</td>\n",
       "      <td>-0.215485</td>\n",
       "      <td>1.000000</td>\n",
       "      <td>0.043191</td>\n",
       "      <td>0.011273</td>\n",
       "      <td>-0.003072</td>\n",
       "      <td>-0.008853</td>\n",
       "      <td>-0.283014</td>\n",
       "      <td>0.066274</td>\n",
       "      <td>0.025402</td>\n",
       "      <td>-0.065580</td>\n",
       "      <td>-0.108665</td>\n",
       "      <td>0.123335</td>\n",
       "      <td>0.011263</td>\n",
       "    </tr>\n",
       "    <tr>\n",
       "      <th>bp_meds</th>\n",
       "      <td>0.122114</td>\n",
       "      <td>-0.037533</td>\n",
       "      <td>0.043191</td>\n",
       "      <td>1.000000</td>\n",
       "      <td>0.116183</td>\n",
       "      <td>0.256892</td>\n",
       "      <td>0.070932</td>\n",
       "      <td>-0.037548</td>\n",
       "      <td>0.079456</td>\n",
       "      <td>0.246766</td>\n",
       "      <td>0.189996</td>\n",
       "      <td>0.084309</td>\n",
       "      <td>0.009519</td>\n",
       "      <td>0.041168</td>\n",
       "    </tr>\n",
       "    <tr>\n",
       "      <th>prevalent_stroke</th>\n",
       "      <td>0.059038</td>\n",
       "      <td>-0.043703</td>\n",
       "      <td>0.011273</td>\n",
       "      <td>0.116183</td>\n",
       "      <td>1.000000</td>\n",
       "      <td>0.071652</td>\n",
       "      <td>0.010115</td>\n",
       "      <td>-0.042954</td>\n",
       "      <td>-0.014145</td>\n",
       "      <td>0.057905</td>\n",
       "      <td>0.045614</td>\n",
       "      <td>0.010152</td>\n",
       "      <td>-0.020184</td>\n",
       "      <td>0.022441</td>\n",
       "    </tr>\n",
       "    <tr>\n",
       "      <th>prevalent_hyp</th>\n",
       "      <td>0.308826</td>\n",
       "      <td>-0.119325</td>\n",
       "      <td>-0.003072</td>\n",
       "      <td>0.256892</td>\n",
       "      <td>0.071652</td>\n",
       "      <td>1.000000</td>\n",
       "      <td>0.082565</td>\n",
       "      <td>-0.110166</td>\n",
       "      <td>0.157490</td>\n",
       "      <td>0.701137</td>\n",
       "      <td>0.601181</td>\n",
       "      <td>0.296012</td>\n",
       "      <td>0.147008</td>\n",
       "      <td>0.088531</td>\n",
       "    </tr>\n",
       "    <tr>\n",
       "      <th>diabetes</th>\n",
       "      <td>0.107875</td>\n",
       "      <td>-0.053333</td>\n",
       "      <td>-0.008853</td>\n",
       "      <td>0.070932</td>\n",
       "      <td>0.010115</td>\n",
       "      <td>0.082565</td>\n",
       "      <td>1.000000</td>\n",
       "      <td>-0.049597</td>\n",
       "      <td>0.052035</td>\n",
       "      <td>0.116012</td>\n",
       "      <td>0.058965</td>\n",
       "      <td>0.081498</td>\n",
       "      <td>0.039977</td>\n",
       "      <td>0.513701</td>\n",
       "    </tr>\n",
       "    <tr>\n",
       "      <th>cigs_per_day_log</th>\n",
       "      <td>-0.218908</td>\n",
       "      <td>0.928582</td>\n",
       "      <td>-0.283014</td>\n",
       "      <td>-0.037548</td>\n",
       "      <td>-0.042954</td>\n",
       "      <td>-0.110166</td>\n",
       "      <td>-0.049597</td>\n",
       "      <td>1.000000</td>\n",
       "      <td>-0.042030</td>\n",
       "      <td>-0.139456</td>\n",
       "      <td>-0.111538</td>\n",
       "      <td>-0.158377</td>\n",
       "      <td>0.075541</td>\n",
       "      <td>-0.084962</td>\n",
       "    </tr>\n",
       "    <tr>\n",
       "      <th>cholesterol_log</th>\n",
       "      <td>0.284280</td>\n",
       "      <td>-0.049684</td>\n",
       "      <td>0.066274</td>\n",
       "      <td>0.079456</td>\n",
       "      <td>-0.014145</td>\n",
       "      <td>0.157490</td>\n",
       "      <td>0.052035</td>\n",
       "      <td>-0.042030</td>\n",
       "      <td>1.000000</td>\n",
       "      <td>0.208850</td>\n",
       "      <td>0.166235</td>\n",
       "      <td>0.133102</td>\n",
       "      <td>0.086247</td>\n",
       "      <td>0.055031</td>\n",
       "    </tr>\n",
       "    <tr>\n",
       "      <th>systolic_bp_log</th>\n",
       "      <td>0.407648</td>\n",
       "      <td>-0.147897</td>\n",
       "      <td>0.025402</td>\n",
       "      <td>0.246766</td>\n",
       "      <td>0.057905</td>\n",
       "      <td>0.701137</td>\n",
       "      <td>0.116012</td>\n",
       "      <td>-0.139456</td>\n",
       "      <td>0.208850</td>\n",
       "      <td>1.000000</td>\n",
       "      <td>0.777700</td>\n",
       "      <td>0.334960</td>\n",
       "      <td>0.172823</td>\n",
       "      <td>0.134253</td>\n",
       "    </tr>\n",
       "    <tr>\n",
       "      <th>diastolic_bp_log</th>\n",
       "      <td>0.219533</td>\n",
       "      <td>-0.127495</td>\n",
       "      <td>-0.065580</td>\n",
       "      <td>0.189996</td>\n",
       "      <td>0.045614</td>\n",
       "      <td>0.601181</td>\n",
       "      <td>0.058965</td>\n",
       "      <td>-0.111538</td>\n",
       "      <td>0.166235</td>\n",
       "      <td>0.777700</td>\n",
       "      <td>1.000000</td>\n",
       "      <td>0.377689</td>\n",
       "      <td>0.170007</td>\n",
       "      <td>0.065247</td>\n",
       "    </tr>\n",
       "    <tr>\n",
       "      <th>bmi_log</th>\n",
       "      <td>0.140739</td>\n",
       "      <td>-0.176870</td>\n",
       "      <td>-0.108665</td>\n",
       "      <td>0.084309</td>\n",
       "      <td>0.010152</td>\n",
       "      <td>0.296012</td>\n",
       "      <td>0.081498</td>\n",
       "      <td>-0.158377</td>\n",
       "      <td>0.133102</td>\n",
       "      <td>0.334960</td>\n",
       "      <td>0.377689</td>\n",
       "      <td>1.000000</td>\n",
       "      <td>0.063828</td>\n",
       "      <td>0.093766</td>\n",
       "    </tr>\n",
       "    <tr>\n",
       "      <th>heart_rate_log</th>\n",
       "      <td>-0.005544</td>\n",
       "      <td>0.067216</td>\n",
       "      <td>0.123335</td>\n",
       "      <td>0.009519</td>\n",
       "      <td>-0.020184</td>\n",
       "      <td>0.147008</td>\n",
       "      <td>0.039977</td>\n",
       "      <td>0.075541</td>\n",
       "      <td>0.086247</td>\n",
       "      <td>0.172823</td>\n",
       "      <td>0.170007</td>\n",
       "      <td>0.063828</td>\n",
       "      <td>1.000000</td>\n",
       "      <td>0.094081</td>\n",
       "    </tr>\n",
       "    <tr>\n",
       "      <th>glucose_log</th>\n",
       "      <td>0.119407</td>\n",
       "      <td>-0.071017</td>\n",
       "      <td>0.011263</td>\n",
       "      <td>0.041168</td>\n",
       "      <td>0.022441</td>\n",
       "      <td>0.088531</td>\n",
       "      <td>0.513701</td>\n",
       "      <td>-0.084962</td>\n",
       "      <td>0.055031</td>\n",
       "      <td>0.134253</td>\n",
       "      <td>0.065247</td>\n",
       "      <td>0.093766</td>\n",
       "      <td>0.094081</td>\n",
       "      <td>1.000000</td>\n",
       "    </tr>\n",
       "  </tbody>\n",
       "</table>\n",
       "</div>"
      ],
      "text/plain": [
       "                       age    smoker    female   bp_meds  prevalent_stroke  \\\n",
       "age               1.000000 -0.210997  0.041882  0.122114          0.059038   \n",
       "smoker           -0.210997  1.000000 -0.215485 -0.037533         -0.043703   \n",
       "female            0.041882 -0.215485  1.000000  0.043191          0.011273   \n",
       "bp_meds           0.122114 -0.037533  0.043191  1.000000          0.116183   \n",
       "prevalent_stroke  0.059038 -0.043703  0.011273  0.116183          1.000000   \n",
       "prevalent_hyp     0.308826 -0.119325 -0.003072  0.256892          0.071652   \n",
       "diabetes          0.107875 -0.053333 -0.008853  0.070932          0.010115   \n",
       "cigs_per_day_log -0.218908  0.928582 -0.283014 -0.037548         -0.042954   \n",
       "cholesterol_log   0.284280 -0.049684  0.066274  0.079456         -0.014145   \n",
       "systolic_bp_log   0.407648 -0.147897  0.025402  0.246766          0.057905   \n",
       "diastolic_bp_log  0.219533 -0.127495 -0.065580  0.189996          0.045614   \n",
       "bmi_log           0.140739 -0.176870 -0.108665  0.084309          0.010152   \n",
       "heart_rate_log   -0.005544  0.067216  0.123335  0.009519         -0.020184   \n",
       "glucose_log       0.119407 -0.071017  0.011263  0.041168          0.022441   \n",
       "\n",
       "                  prevalent_hyp  diabetes  cigs_per_day_log  cholesterol_log  \\\n",
       "age                    0.308826  0.107875         -0.218908         0.284280   \n",
       "smoker                -0.119325 -0.053333          0.928582        -0.049684   \n",
       "female                -0.003072 -0.008853         -0.283014         0.066274   \n",
       "bp_meds                0.256892  0.070932         -0.037548         0.079456   \n",
       "prevalent_stroke       0.071652  0.010115         -0.042954        -0.014145   \n",
       "prevalent_hyp          1.000000  0.082565         -0.110166         0.157490   \n",
       "diabetes               0.082565  1.000000         -0.049597         0.052035   \n",
       "cigs_per_day_log      -0.110166 -0.049597          1.000000        -0.042030   \n",
       "cholesterol_log        0.157490  0.052035         -0.042030         1.000000   \n",
       "systolic_bp_log        0.701137  0.116012         -0.139456         0.208850   \n",
       "diastolic_bp_log       0.601181  0.058965         -0.111538         0.166235   \n",
       "bmi_log                0.296012  0.081498         -0.158377         0.133102   \n",
       "heart_rate_log         0.147008  0.039977          0.075541         0.086247   \n",
       "glucose_log            0.088531  0.513701         -0.084962         0.055031   \n",
       "\n",
       "                  systolic_bp_log  diastolic_bp_log   bmi_log  heart_rate_log  \\\n",
       "age                      0.407648          0.219533  0.140739       -0.005544   \n",
       "smoker                  -0.147897         -0.127495 -0.176870        0.067216   \n",
       "female                   0.025402         -0.065580 -0.108665        0.123335   \n",
       "bp_meds                  0.246766          0.189996  0.084309        0.009519   \n",
       "prevalent_stroke         0.057905          0.045614  0.010152       -0.020184   \n",
       "prevalent_hyp            0.701137          0.601181  0.296012        0.147008   \n",
       "diabetes                 0.116012          0.058965  0.081498        0.039977   \n",
       "cigs_per_day_log        -0.139456         -0.111538 -0.158377        0.075541   \n",
       "cholesterol_log          0.208850          0.166235  0.133102        0.086247   \n",
       "systolic_bp_log          1.000000          0.777700  0.334960        0.172823   \n",
       "diastolic_bp_log         0.777700          1.000000  0.377689        0.170007   \n",
       "bmi_log                  0.334960          0.377689  1.000000        0.063828   \n",
       "heart_rate_log           0.172823          0.170007  0.063828        1.000000   \n",
       "glucose_log              0.134253          0.065247  0.093766        0.094081   \n",
       "\n",
       "                  glucose_log  \n",
       "age                  0.119407  \n",
       "smoker              -0.071017  \n",
       "female               0.011263  \n",
       "bp_meds              0.041168  \n",
       "prevalent_stroke     0.022441  \n",
       "prevalent_hyp        0.088531  \n",
       "diabetes             0.513701  \n",
       "cigs_per_day_log    -0.084962  \n",
       "cholesterol_log      0.055031  \n",
       "systolic_bp_log      0.134253  \n",
       "diastolic_bp_log     0.065247  \n",
       "bmi_log              0.093766  \n",
       "heart_rate_log       0.094081  \n",
       "glucose_log          1.000000  "
      ]
     },
     "execution_count": 54,
     "metadata": {},
     "output_type": "execute_result"
    }
   ],
   "source": [
    "columns_for_corr = ['age',\n",
    "                    'smoker',\n",
    "                    'female',\n",
    "                    'bp_meds',\n",
    "                    'prevalent_stroke',\n",
    "                    'prevalent_hyp',\n",
    "                    'diabetes',\n",
    "                    'cigs_per_day_log',\n",
    "                    'cholesterol_log',\n",
    "                    'systolic_bp_log',\n",
    "                    'diastolic_bp_log',\n",
    "                    'bmi_log', 'heart_rate_log',\n",
    "                    'glucose_log']\n",
    "\n",
    "correlation_matrix = df[columns_for_corr].corr()\n",
    "correlation_matrix"
   ]
  },
  {
   "cell_type": "code",
   "execution_count": 55,
   "id": "b0561edb-0bd8-432d-89aa-853eea50dabc",
   "metadata": {},
   "outputs": [
    {
     "data": {
      "image/png": "[encoded data removed]",
      "text/plain": [
       "<Figure size 2000x600 with 2 Axes>"
      ]
     },
     "metadata": {
      "needs_background": "light"
     },
     "output_type": "display_data"
    }
   ],
   "source": [
    "plt.figure(figsize=(20, 6))\n",
    "\n",
    "fig = sns.heatmap(correlation_matrix,\n",
    "                  annot=True,\n",
    "                  cmap='viridis',\n",
    "                  fmt='.2f',\n",
    "                  vmin=-1,\n",
    "                  vmax=1,\n",
    "                  linewidths=.9,\n",
    "                  square=True,\n",
    "                  annot_kws={\"size\": 10})\n",
    "\n",
    "plt.title('Correlation Matrix Heatmap', fontsize=16);"
   ]
  },
  {
   "cell_type": "markdown",
   "id": "5854fd97-a2da-42e9-a9bf-066fe3263fc4",
   "metadata": {},
   "source": [
    "As expected, positive correlation inspected between the following features:\n",
    "- smoker and cigs_per_day_log\n",
    "- prevalent_hyp, systolic_bp_log and diastolic_bp_log\n",
    "- diabetes and glucose_log\n",
    "\n",
    "All could be as good predictors for CHD. Let's look into correlation of all features to the dependent variable. Maybe it will suggest which one of each group of correlated variables should be taken into modelling."
   ]
  },
  {
   "cell_type": "code",
   "execution_count": 72,
   "id": "7139d5fd-b9ce-475c-845b-1a4579a3043f",
   "metadata": {},
   "outputs": [
    {
     "data": {
      "text/plain": [
       "age                 0.224927\n",
       "smoker              0.034143\n",
       "female             -0.084647\n",
       "bp_meds             0.087349\n",
       "prevalent_stroke    0.068627\n",
       "prevalent_hyp       0.166544\n",
       "diabetes            0.103681\n",
       "cigs_per_day_log    0.053577\n",
       "cholesterol_log     0.090013\n",
       "systolic_bp_log     0.207119\n",
       "diastolic_bp_log    0.127976\n",
       "bmi_log             0.062289\n",
       "heart_rate_log      0.020136\n",
       "glucose_log         0.116196\n",
       "dtype: float64"
      ]
     },
     "execution_count": 72,
     "metadata": {},
     "output_type": "execute_result"
    }
   ],
   "source": [
    "df[columns_for_corr].apply(lambda x: df['ten_year_chd'].corr(x))"
   ]
  },
  {
   "cell_type": "markdown",
   "id": "8353a410-dac2-47a2-b37c-a4b52bd445f2",
   "metadata": {},
   "source": [
    "I will check for multicolinearity."
   ]
  },
  {
   "cell_type": "code",
   "execution_count": 56,
   "id": "bd12892f-3b10-4943-95b8-5119f0b12f3f",
   "metadata": {},
   "outputs": [
    {
     "name": "stdout",
     "output_type": "stream",
     "text": [
      "             Feature          VIF\n",
      "0                age    46.202603\n",
      "1             smoker    14.807450\n",
      "2             female     2.764040\n",
      "3            bp_meds     1.130143\n",
      "4   prevalent_stroke     1.026394\n",
      "5      prevalent_hyp     2.222031\n",
      "6           diabetes     1.333999\n",
      "7   cigs_per_day_log    14.429723\n",
      "8    cholesterol_log   837.585412\n",
      "9    systolic_bp_log  3188.833026\n",
      "10  diastolic_bp_log  2713.709681\n",
      "11           bmi_log   590.444414\n",
      "12    heart_rate_log   799.338115\n",
      "13       glucose_log   618.881246\n"
     ]
    }
   ],
   "source": [
    "df_vif = pd.DataFrame(df, columns=columns_for_corr)\n",
    "vif_data = pd.DataFrame()\n",
    "vif_data['Feature'] = df_vif.columns\n",
    "vif_data['VIF'] = [variance_inflation_factor(df_vif.values, i) for i in range(df_vif.shape[1])]\n",
    "print(vif_data)"
   ]
  },
  {
   "cell_type": "markdown",
   "id": "2b749837-6bd4-432e-a38f-fdca6b576d3e",
   "metadata": {},
   "source": [
    "Correlation with target variable is low with each of the features. However, several features has very hight multicolinearity. I will keep all of them and apply Elastic Net regularization to deal with multicolinearity when modelling."
   ]
  },
  {
   "cell_type": "markdown",
   "id": "ede66458-9061-483c-90ec-17ae42b3f9e5",
   "metadata": {},
   "source": [
    "<br>\n",
    "\n",
    "This concludes EDA phase. \n",
    "\n",
    "What has been done:\n",
    "- continuous features converted to natural logarithms\n",
    "- categorical features transformed to binary\n",
    "\n",
    "What can be recommended for modelling stage:\n",
    "- apply weight on female to account for different distribution by sex in population vs dataset\n",
    "- use Elastic Net regularization to account for multicolinearity"
   ]
  },
  {
   "cell_type": "markdown",
   "id": "15cc9179-cb31-4ed4-9d60-717c3406a6b1",
   "metadata": {},
   "source": [
    "<br>\n",
    "\n",
    "## Modelling and Optimisation"
   ]
  },
  {
   "cell_type": "markdown",
   "id": "d859cf01-f966-4ed8-887b-523cd658e9cf",
   "metadata": {},
   "source": [
    "First, I will form a DataFrame with only the columns needed."
   ]
  },
  {
   "cell_type": "code",
   "execution_count": 57,
   "id": "55c51f47-bae0-4c8a-a67b-230cb416d0ad",
   "metadata": {},
   "outputs": [],
   "source": [
    "X = df[['age',\n",
    "        'smoker',\n",
    "        'female',\n",
    "        'bp_meds',\n",
    "        'prevalent_stroke',\n",
    "        'prevalent_hyp',\n",
    "        'diabetes',\n",
    "        'cigs_per_day_log',\n",
    "        'cholesterol_log',\n",
    "        'systolic_bp_log',\n",
    "        'diastolic_bp_log',\n",
    "        'bmi_log',\n",
    "        'heart_rate_log',\n",
    "        'glucose_log']]\n",
    "\n",
    "y = df['ten_year_chd']"
   ]
  },
  {
   "cell_type": "markdown",
   "id": "1bd36a0e-4fa0-4901-ad3c-cf6347869722",
   "metadata": {},
   "source": [
    "I will set test data aside from training data with startification to have balanced count of positive samples in both, training and testing parts of the dataset."
   ]
  },
  {
   "cell_type": "code",
   "execution_count": 58,
   "id": "56789798-9169-4dee-9892-f6d345a562ad",
   "metadata": {},
   "outputs": [
    {
     "name": "stdout",
     "output_type": "stream",
     "text": [
      "Training set size: (2712, 14)\n",
      "Testing set size: (678, 14)\n"
     ]
    }
   ],
   "source": [
    "X_train, X_test, y_train, y_test = train_test_split(X,\n",
    "                                                    y,\n",
    "                                                    test_size=0.2,\n",
    "                                                    stratify=y,\n",
    "                                                    random_state=42)\n",
    "\n",
    "print(\"Training set size:\", X_train.shape)\n",
    "print(\"Testing set size:\", X_test.shape)"
   ]
  },
  {
   "cell_type": "markdown",
   "id": "d3651de1-54af-41bd-adbf-650626f87066",
   "metadata": {},
   "source": [
    "Now I will use standard scaler to scale all numeric features."
   ]
  },
  {
   "cell_type": "code",
   "execution_count": 59,
   "id": "5ea493e6-4ed3-45a0-9d5b-12387516f269",
   "metadata": {},
   "outputs": [],
   "source": [
    "numeric_features = ['age',\n",
    "                    'cigs_per_day_log',\n",
    "                    'cholesterol_log',\n",
    "                    'systolic_bp_log',\n",
    "                    'diastolic_bp_log',\n",
    "                    'bmi_log',\n",
    "                    'heart_rate_log',\n",
    "                    'glucose_log']\n",
    "\n",
    "binary_features = ['smoker',\n",
    "                   'female',\n",
    "                   'bp_meds',\n",
    "                   'prevalent_stroke',\n",
    "                   'prevalent_hyp',\n",
    "                   'diabetes']\n",
    "\n",
    "X_train_numeric = X_train[numeric_features]\n",
    "X_train_binary = X_train[binary_features]\n",
    "X_test_numeric = X_test[numeric_features]\n",
    "X_test_binary = X_test[binary_features]\n",
    "\n",
    "scaler = StandardScaler()\n",
    "X_train_numeric_scaled = scaler.fit_transform(X_train_numeric)\n",
    "X_test_numeric_scaled = scaler.transform(X_test_numeric)\n",
    "\n",
    "X_train_numeric_scaled_df = pd.DataFrame(X_train_numeric_scaled,\n",
    "                                         columns=numeric_features,\n",
    "                                         index=X_train.index)\n",
    "\n",
    "X_test_numeric_scaled_df = pd.DataFrame(X_test_numeric_scaled,\n",
    "                                        columns=numeric_features,\n",
    "                                        index=X_test.index)\n",
    "\n",
    "X_train_transformed = pd.concat([X_train_numeric_scaled_df,\n",
    "                                 X_train_binary],\n",
    "                                axis=1)\n",
    "\n",
    "X_test_transformed = pd.concat([X_test_numeric_scaled_df,\n",
    "                                X_test_binary],\n",
    "                               axis=1)"
   ]
  },
  {
   "cell_type": "code",
   "execution_count": 60,
   "id": "bc438b52-7c63-492f-87f8-005564433b6b",
   "metadata": {},
   "outputs": [
    {
     "data": {
      "text/html": [
       "<div>\n",
       "<style scoped>\n",
       "    .dataframe tbody tr th:only-of-type {\n",
       "        vertical-align: middle;\n",
       "    }\n",
       "\n",
       "    .dataframe tbody tr th {\n",
       "        vertical-align: top;\n",
       "    }\n",
       "\n",
       "    .dataframe thead th {\n",
       "        text-align: right;\n",
       "    }\n",
       "</style>\n",
       "<table border=\"1\" class=\"dataframe\">\n",
       "  <thead>\n",
       "    <tr style=\"text-align: right;\">\n",
       "      <th></th>\n",
       "      <th>age</th>\n",
       "      <th>cigs_per_day_log</th>\n",
       "      <th>cholesterol_log</th>\n",
       "      <th>systolic_bp_log</th>\n",
       "      <th>diastolic_bp_log</th>\n",
       "      <th>bmi_log</th>\n",
       "      <th>heart_rate_log</th>\n",
       "      <th>glucose_log</th>\n",
       "      <th>smoker</th>\n",
       "      <th>female</th>\n",
       "      <th>bp_meds</th>\n",
       "      <th>prevalent_stroke</th>\n",
       "      <th>prevalent_hyp</th>\n",
       "      <th>diabetes</th>\n",
       "    </tr>\n",
       "    <tr>\n",
       "      <th>id</th>\n",
       "      <th></th>\n",
       "      <th></th>\n",
       "      <th></th>\n",
       "      <th></th>\n",
       "      <th></th>\n",
       "      <th></th>\n",
       "      <th></th>\n",
       "      <th></th>\n",
       "      <th></th>\n",
       "      <th></th>\n",
       "      <th></th>\n",
       "      <th></th>\n",
       "      <th></th>\n",
       "      <th></th>\n",
       "    </tr>\n",
       "  </thead>\n",
       "  <tbody>\n",
       "    <tr>\n",
       "      <th>406</th>\n",
       "      <td>-1.128033</td>\n",
       "      <td>-0.922608</td>\n",
       "      <td>-0.342492</td>\n",
       "      <td>-1.697002</td>\n",
       "      <td>-2.197479</td>\n",
       "      <td>-1.633701</td>\n",
       "      <td>-0.278663</td>\n",
       "      <td>-1.410783</td>\n",
       "      <td>0</td>\n",
       "      <td>1</td>\n",
       "      <td>0</td>\n",
       "      <td>0</td>\n",
       "      <td>0</td>\n",
       "      <td>0</td>\n",
       "    </tr>\n",
       "    <tr>\n",
       "      <th>461</th>\n",
       "      <td>-1.244292</td>\n",
       "      <td>1.153039</td>\n",
       "      <td>-0.669333</td>\n",
       "      <td>-1.542544</td>\n",
       "      <td>-1.638905</td>\n",
       "      <td>-1.627242</td>\n",
       "      <td>0.402536</td>\n",
       "      <td>0.302895</td>\n",
       "      <td>1</td>\n",
       "      <td>1</td>\n",
       "      <td>0</td>\n",
       "      <td>0</td>\n",
       "      <td>0</td>\n",
       "      <td>0</td>\n",
       "    </tr>\n",
       "    <tr>\n",
       "      <th>1288</th>\n",
       "      <td>-0.546741</td>\n",
       "      <td>1.609173</td>\n",
       "      <td>0.932405</td>\n",
       "      <td>0.182531</td>\n",
       "      <td>0.154896</td>\n",
       "      <td>-0.449034</td>\n",
       "      <td>-0.014843</td>\n",
       "      <td>-0.057932</td>\n",
       "      <td>1</td>\n",
       "      <td>0</td>\n",
       "      <td>0</td>\n",
       "      <td>0</td>\n",
       "      <td>0</td>\n",
       "      <td>0</td>\n",
       "    </tr>\n",
       "    <tr>\n",
       "      <th>1702</th>\n",
       "      <td>-0.546741</td>\n",
       "      <td>-0.922608</td>\n",
       "      <td>-0.318156</td>\n",
       "      <td>-1.215472</td>\n",
       "      <td>-0.099870</td>\n",
       "      <td>0.044263</td>\n",
       "      <td>-0.014843</td>\n",
       "      <td>-0.653383</td>\n",
       "      <td>0</td>\n",
       "      <td>1</td>\n",
       "      <td>0</td>\n",
       "      <td>0</td>\n",
       "      <td>0</td>\n",
       "      <td>0</td>\n",
       "    </tr>\n",
       "    <tr>\n",
       "      <th>1279</th>\n",
       "      <td>-1.244292</td>\n",
       "      <td>1.153039</td>\n",
       "      <td>-0.516006</td>\n",
       "      <td>-1.244516</td>\n",
       "      <td>-1.375298</td>\n",
       "      <td>0.470803</td>\n",
       "      <td>0.945503</td>\n",
       "      <td>-0.184249</td>\n",
       "      <td>1</td>\n",
       "      <td>0</td>\n",
       "      <td>0</td>\n",
       "      <td>0</td>\n",
       "      <td>0</td>\n",
       "      <td>0</td>\n",
       "    </tr>\n",
       "  </tbody>\n",
       "</table>\n",
       "</div>"
      ],
      "text/plain": [
       "           age  cigs_per_day_log  cholesterol_log  systolic_bp_log  \\\n",
       "id                                                                   \n",
       "406  -1.128033         -0.922608        -0.342492        -1.697002   \n",
       "461  -1.244292          1.153039        -0.669333        -1.542544   \n",
       "1288 -0.546741          1.609173         0.932405         0.182531   \n",
       "1702 -0.546741         -0.922608        -0.318156        -1.215472   \n",
       "1279 -1.244292          1.153039        -0.516006        -1.244516   \n",
       "\n",
       "      diastolic_bp_log   bmi_log  heart_rate_log  glucose_log  smoker  female  \\\n",
       "id                                                                              \n",
       "406          -2.197479 -1.633701       -0.278663    -1.410783       0       1   \n",
       "461          -1.638905 -1.627242        0.402536     0.302895       1       1   \n",
       "1288          0.154896 -0.449034       -0.014843    -0.057932       1       0   \n",
       "1702         -0.099870  0.044263       -0.014843    -0.653383       0       1   \n",
       "1279         -1.375298  0.470803        0.945503    -0.184249       1       0   \n",
       "\n",
       "      bp_meds  prevalent_stroke  prevalent_hyp  diabetes  \n",
       "id                                                        \n",
       "406         0                 0              0         0  \n",
       "461         0                 0              0         0  \n",
       "1288        0                 0              0         0  \n",
       "1702        0                 0              0         0  \n",
       "1279        0                 0              0         0  "
      ]
     },
     "execution_count": 60,
     "metadata": {},
     "output_type": "execute_result"
    }
   ],
   "source": [
    "X_train_transformed.head()"
   ]
  },
  {
   "cell_type": "code",
   "execution_count": 61,
   "id": "9f95def0-1859-4e87-8d5b-299b278493ec",
   "metadata": {},
   "outputs": [
    {
     "name": "stdout",
     "output_type": "stream",
     "text": [
      "Fitting 5 folds for each of 49 candidates, totalling 245 fits\n",
      "Best parameters found:  {'C': 0.01, 'l1_ratio': 0}\n",
      "Best cross-validation score:  0.3741751936890228\n"
     ]
    }
   ],
   "source": [
    "model = LogisticRegression(solver='saga',\n",
    "                           penalty='elasticnet',\n",
    "                           class_weight='balanced',\n",
    "                           max_iter=10000)\n",
    "\n",
    "param_grid = {'l1_ratio': [0, 0.1, 0.3, 0.5, 0.7, 0.9, 1],\n",
    "              'C': [0.001, 0.01, 0.1, 1, 10, 100, 1000]}\n",
    "\n",
    "grid_search = GridSearchCV(estimator=model,\n",
    "                           param_grid=param_grid,\n",
    "                           scoring='f1',\n",
    "                           cv=5,\n",
    "                           verbose=1,\n",
    "                           n_jobs=-1)\n",
    "\n",
    "grid_search.fit(X_train_transformed, y_train)\n",
    "\n",
    "print(\"Best parameters found: \", grid_search.best_params_)\n",
    "print(\"Best cross-validation score: \", grid_search.best_score_)\n",
    "\n",
    "best_model = grid_search.best_estimator_"
   ]
  },
  {
   "cell_type": "markdown",
   "id": "2882c3bd-3945-43c0-b9a4-5c76047a9ce0",
   "metadata": {},
   "source": [
    "l1_ratio 0 means that only Ridge regularization applied, because of multicolinearity. Now I will use the model with best parameters to predict values on test dataset."
   ]
  },
  {
   "cell_type": "code",
   "execution_count": 62,
   "id": "7f2eaa11-445a-4cdc-840a-d9932203baa5",
   "metadata": {},
   "outputs": [],
   "source": [
    "y_train_probs = best_model.predict_proba(X_train_transformed)[:, 1]\n",
    "y_test_probs = best_model.predict_proba(X_test_transformed)[:, 1]"
   ]
  },
  {
   "cell_type": "markdown",
   "id": "63d798d0-1914-4733-9f77-6d2d77314ffb",
   "metadata": {},
   "source": [
    "I will now find the threshold that gives the optimal balance between recall and precision."
   ]
  },
  {
   "cell_type": "code",
   "execution_count": 63,
   "id": "b20c3969-9ab8-40c3-8575-d0d0a65d192a",
   "metadata": {},
   "outputs": [
    {
     "name": "stdout",
     "output_type": "stream",
     "text": [
      "Optimal threshold: 0.53\n"
     ]
    },
    {
     "data": {
      "image/png": "[encoded data removed]",
      "text/plain": [
       "<Figure size 600x300 with 1 Axes>"
      ]
     },
     "metadata": {
      "needs_background": "light"
     },
     "output_type": "display_data"
    }
   ],
   "source": [
    "fpr, tpr, thresholds = roc_curve(y_test, y_test_probs)\n",
    "roc_auc = auc(fpr, tpr)\n",
    "\n",
    "youden_j = tpr - fpr\n",
    "optimal_idx = np.argmax(youden_j)\n",
    "optimal_threshold = thresholds[optimal_idx].round(2)\n",
    "\n",
    "plt.figure()\n",
    "plt.plot(fpr, tpr, color='darkblue', lw=2, label=f'ROC curve (area = {roc_auc:.2f})')\n",
    "plt.plot(fpr[optimal_idx], tpr[optimal_idx], 'ro', label='Optimal threshold (J)')\n",
    "plt.xlim([0.0, 1.0])\n",
    "plt.ylim([0.0, 1.05])\n",
    "plt.xlabel('False Positive Rate')\n",
    "plt.ylabel('True Positive Rate')\n",
    "plt.title('Receiver Operating Characteristic')\n",
    "plt.legend(loc='lower right');\n",
    "\n",
    "print(f'Optimal threshold: {optimal_threshold}')"
   ]
  },
  {
   "cell_type": "code",
   "execution_count": 64,
   "id": "bd13e221-faf4-42b1-a4a8-90967a25d0aa",
   "metadata": {},
   "outputs": [
    {
     "name": "stdout",
     "output_type": "stream",
     "text": [
      "              precision    recall  f1-score   support\n",
      "\n",
      "           0       0.92      0.76      0.83       576\n",
      "           1       0.31      0.61      0.41       102\n",
      "\n",
      "    accuracy                           0.73       678\n",
      "   macro avg       0.61      0.68      0.62       678\n",
      "weighted avg       0.82      0.73      0.77       678\n",
      "\n"
     ]
    }
   ],
   "source": [
    "y_pred_threshold = (y_test_probs >= optimal_threshold).astype(int)\n",
    "print(classification_report(y_test, y_pred_threshold))"
   ]
  },
  {
   "cell_type": "code",
   "execution_count": 105,
   "id": "79c6966b-0427-4832-82b8-45a8b867ddb3",
   "metadata": {},
   "outputs": [
    {
     "data": {
      "image/png": "[encoded data removed]",
      "text/plain": [
       "<Figure size 600x300 with 2 Axes>"
      ]
     },
     "metadata": {
      "needs_background": "light"
     },
     "output_type": "display_data"
    }
   ],
   "source": [
    "confusion_matrix = confusion_matrix(y_test, y_pred_threshold)\n",
    "\n",
    "conf_matrix_df = pd.DataFrame(confusion_matrix,\n",
    "                               index=['Negative', 'Positive'],\n",
    "                               columns=['Predicted Negative', 'Predicted Positive'])\n",
    "\n",
    "sns.heatmap(conf_matrix_df, annot=True, fmt='d', cmap='Blues')\n",
    "        \n",
    "plt.title('Confusion Matrix');"
   ]
  },
  {
   "cell_type": "code",
   "execution_count": 86,
   "id": "4c51593b-c45d-44cc-af79-5a1b159c2bf4",
   "metadata": {},
   "outputs": [
    {
     "data": {
      "image/png": "[encoded data removed]",
      "text/plain": [
       "<Figure size 600x300 with 2 Axes>"
      ]
     },
     "metadata": {
      "needs_background": "light"
     },
     "output_type": "display_data"
    }
   ],
   "source": [
    "confusion_matrix = confusion_matrix(y_test, y_pred_threshold)\n",
    "\n",
    "confusion_normalized = confusion_matrix.astype(float) / confusion_matrix.sum(axis=1)[:, np.newaxis]\n",
    "\n",
    "conf_matrix_normalized_df = pd.DataFrame(confusion_normalized,\n",
    "                                         index=['Negative', 'Positive'],\n",
    "                                         columns=['Predicted Negative', 'Predicted Positive'])\n",
    "\n",
    "sns.heatmap(conf_matrix_normalized_df, annot=True, fmt='.0%', cmap='Blues')\n",
    "        \n",
    "plt.title('Normalized Confusion Matrix');"
   ]
  },
  {
   "cell_type": "markdown",
   "id": "d8b8abdd-a66a-48b7-bd51-cf1350e21e84",
   "metadata": {},
   "source": [
    "The model predicts 61% of positives correctly. Also 69% of alerts to adjust lifestyle because of coronary heart disease will be false. But getting a healthier diet or more than none excercise cannot do any unwell, can it?"
   ]
  },
  {
   "cell_type": "markdown",
   "id": "f2a21882-4abb-4dc4-a32e-4ed7916c38b0",
   "metadata": {},
   "source": [
    " This concludes modelling and optimisation. I will now look into coefficients and how they can be interpreted."
   ]
  },
  {
   "cell_type": "markdown",
   "id": "3de57619-06ee-4064-b340-fa5b215c1ead",
   "metadata": {},
   "source": [
    "#### Interpretation"
   ]
  },
  {
   "cell_type": "code",
   "execution_count": 87,
   "id": "742e0966-4d60-44fd-a13e-715b7b5143ac",
   "metadata": {},
   "outputs": [
    {
     "data": {
      "text/html": [
       "<div>\n",
       "<style scoped>\n",
       "    .dataframe tbody tr th:only-of-type {\n",
       "        vertical-align: middle;\n",
       "    }\n",
       "\n",
       "    .dataframe tbody tr th {\n",
       "        vertical-align: top;\n",
       "    }\n",
       "\n",
       "    .dataframe thead th {\n",
       "        text-align: right;\n",
       "    }\n",
       "</style>\n",
       "<table border=\"1\" class=\"dataframe\">\n",
       "  <thead>\n",
       "    <tr style=\"text-align: right;\">\n",
       "      <th></th>\n",
       "      <th>Feature</th>\n",
       "      <th>Coefficient</th>\n",
       "      <th>Odds Ratio</th>\n",
       "    </tr>\n",
       "  </thead>\n",
       "  <tbody>\n",
       "    <tr>\n",
       "      <th>0</th>\n",
       "      <td>age</td>\n",
       "      <td>0.429310</td>\n",
       "      <td>1.536197</td>\n",
       "    </tr>\n",
       "    <tr>\n",
       "      <th>3</th>\n",
       "      <td>bp_meds</td>\n",
       "      <td>0.294741</td>\n",
       "      <td>1.342778</td>\n",
       "    </tr>\n",
       "    <tr>\n",
       "      <th>1</th>\n",
       "      <td>smoker</td>\n",
       "      <td>0.262421</td>\n",
       "      <td>1.300074</td>\n",
       "    </tr>\n",
       "    <tr>\n",
       "      <th>12</th>\n",
       "      <td>heart_rate_log</td>\n",
       "      <td>0.148365</td>\n",
       "      <td>1.159936</td>\n",
       "    </tr>\n",
       "    <tr>\n",
       "      <th>7</th>\n",
       "      <td>cigs_per_day_log</td>\n",
       "      <td>0.130232</td>\n",
       "      <td>1.139092</td>\n",
       "    </tr>\n",
       "    <tr>\n",
       "      <th>2</th>\n",
       "      <td>female</td>\n",
       "      <td>0.101270</td>\n",
       "      <td>1.106576</td>\n",
       "    </tr>\n",
       "    <tr>\n",
       "      <th>13</th>\n",
       "      <td>glucose_log</td>\n",
       "      <td>0.093791</td>\n",
       "      <td>1.098330</td>\n",
       "    </tr>\n",
       "    <tr>\n",
       "      <th>4</th>\n",
       "      <td>prevalent_stroke</td>\n",
       "      <td>0.073469</td>\n",
       "      <td>1.076236</td>\n",
       "    </tr>\n",
       "    <tr>\n",
       "      <th>8</th>\n",
       "      <td>cholesterol_log</td>\n",
       "      <td>0.057871</td>\n",
       "      <td>1.059578</td>\n",
       "    </tr>\n",
       "    <tr>\n",
       "      <th>11</th>\n",
       "      <td>bmi_log</td>\n",
       "      <td>0.038655</td>\n",
       "      <td>1.039412</td>\n",
       "    </tr>\n",
       "    <tr>\n",
       "      <th>10</th>\n",
       "      <td>diastolic_bp_log</td>\n",
       "      <td>0.029071</td>\n",
       "      <td>1.029498</td>\n",
       "    </tr>\n",
       "    <tr>\n",
       "      <th>5</th>\n",
       "      <td>prevalent_hyp</td>\n",
       "      <td>0.009434</td>\n",
       "      <td>1.009479</td>\n",
       "    </tr>\n",
       "    <tr>\n",
       "      <th>6</th>\n",
       "      <td>diabetes</td>\n",
       "      <td>-0.040668</td>\n",
       "      <td>0.960148</td>\n",
       "    </tr>\n",
       "    <tr>\n",
       "      <th>14</th>\n",
       "      <td>Intercept</td>\n",
       "      <td>-0.159916</td>\n",
       "      <td>0.852215</td>\n",
       "    </tr>\n",
       "    <tr>\n",
       "      <th>9</th>\n",
       "      <td>systolic_bp_log</td>\n",
       "      <td>-0.265314</td>\n",
       "      <td>0.766965</td>\n",
       "    </tr>\n",
       "  </tbody>\n",
       "</table>\n",
       "</div>"
      ],
      "text/plain": [
       "             Feature  Coefficient  Odds Ratio\n",
       "0                age     0.429310    1.536197\n",
       "3            bp_meds     0.294741    1.342778\n",
       "1             smoker     0.262421    1.300074\n",
       "12    heart_rate_log     0.148365    1.159936\n",
       "7   cigs_per_day_log     0.130232    1.139092\n",
       "2             female     0.101270    1.106576\n",
       "13       glucose_log     0.093791    1.098330\n",
       "4   prevalent_stroke     0.073469    1.076236\n",
       "8    cholesterol_log     0.057871    1.059578\n",
       "11           bmi_log     0.038655    1.039412\n",
       "10  diastolic_bp_log     0.029071    1.029498\n",
       "5      prevalent_hyp     0.009434    1.009479\n",
       "6           diabetes    -0.040668    0.960148\n",
       "14         Intercept    -0.159916    0.852215\n",
       "9    systolic_bp_log    -0.265314    0.766965"
      ]
     },
     "execution_count": 87,
     "metadata": {},
     "output_type": "execute_result"
    }
   ],
   "source": [
    "features = X.columns\n",
    "coefficients = best_model.coef_[0]\n",
    "intercept = best_model.intercept_[0]\n",
    "\n",
    "df_coefficients = pd.DataFrame({'Feature': features, 'Coefficient': coefficients})\n",
    "df_coefficients['Odds Ratio'] = np.exp(df_coefficients['Coefficient'])\n",
    "\n",
    "df_intercept = pd.DataFrame({'Feature': ['Intercept'], 'Coefficient': [intercept]})\n",
    "df_intercept['Odds Ratio'] = np.exp(df_intercept['Coefficient'])\n",
    "\n",
    "df_combined = pd.concat([df_coefficients, df_intercept], ignore_index=True)\n",
    "df_combined = df_combined.sort_values(by='Odds Ratio', ascending=False)\n",
    "\n",
    "df_combined"
   ]
  },
  {
   "cell_type": "markdown",
   "id": "43a070f1-78cf-4001-a833-11af29ebf7b1",
   "metadata": {},
   "source": [
    "The odds ratio of intercept tells that all numeric features being at their mean and binary at 0, the odds ratio to have coronary heart disease decreases by ~15%."
   ]
  },
  {
   "cell_type": "markdown",
   "id": "a1ee9652-bba9-44f0-aa88-804005fe323d",
   "metadata": {},
   "source": [
    "The feature having the most impact on the probability to get CHD is older age. Increase of age by 1 standard deviation increases the odds to have coronary heart disease by ~54%."
   ]
  },
  {
   "cell_type": "markdown",
   "id": "922f80cd-968f-4388-840a-988d77cf4701",
   "metadata": {},
   "source": [
    "The feature which lowers the risk of CHD is systolic_bp_log. 1 standard devuation away from the mean decreses the odds to have CHD by ~23%."
   ]
  },
  {
   "cell_type": "markdown",
   "id": "6dbf0779-f100-4c0e-b6ed-344b8025a6a3",
   "metadata": {},
   "source": [
    "Out of binary features, being on blood pressure meds increases the odds to have CHD the most, while having diabetes - the least. But it is worth noting that the impact of diabetes is very small."
   ]
  },
  {
   "cell_type": "markdown",
   "id": "5d7e5d83-928d-4054-b7bf-6a8ae5a1f9d4",
   "metadata": {},
   "source": [
    "<a id=\"conclusion\"></a>\n",
    "\n",
    "---\n",
    "---"
   ]
  },
  {
   "cell_type": "markdown",
   "id": "4acb7e71-3494-4922-add4-06c7293a7439",
   "metadata": {},
   "source": [
    "## Conclusions\n",
    "\n",
    "Overall data quality was not bad:\n",
    "- no duplicates\n",
    "- quite an amount of missing values (glucose was missing the most (9% of values), missing values imputed)\n",
    "- column names adjusted for consistency and readability\n",
    "- education column removed due to lack of information of how values should be interpreted\n",
    "\n",
    "Several transformations were applied to prepare for modelling:\n",
    "- categorical variables sex and is_smoker transformed to binary female and smoker, data type changed to int for bp_meds since it is binary\n",
    "- log transformation applied for most of numeric features because of skewness\n",
    "- strong multicolineariry detected for several features\n",
    "\n",
    "The goal of modelling was to predict ten year coronary heart disease risk in order to give recommendations to edit lifestyle alerting no more than half the patients. Thus, optimizing for balance between recall and precision.\n",
    "\n",
    "The following was done to get closer to the goal:\n",
    "- dataset divided to train and test data 80/20\n",
    "- Class weights for training data applied to account for 6 times less people in the dataset having CHD\n",
    "- Elastic net regularisation applied to account for possible multicolinearity and remove unnecessary features\n",
    "- best parameters for regularization found by applying iterations over parameter grid and cross validation\n",
    "- Optimal threshold to balance recall and precision applied\n",
    "\n",
    "The final best model was able to identify 61% of positive chd cases. Although precision is quite low at 31%, the goal to not alert more than half the patients is achieved."
   ]
  },
  {
   "cell_type": "markdown",
   "id": "206ee86a-7623-4656-b227-58d7fbcd890d",
   "metadata": {},
   "source": [
    "---\n",
    "---\n",
    "\n",
    "## Next Steps\n",
    "\n",
    "Since the under ROC curve area was 0.71 for the best model, it indicates that there is room for improvement.\n",
    "\n",
    "- Fit Decision tree model\n",
    "- Log transform age to account for missing values on the younger and very old age groups\n",
    "- Try different library (e.g. statsmodels.api) for modelling\n",
    "- Omit insignificant features based on their p-values and z-values and repeat modelling\n",
    "- Omit features based on multicolinearity and repeat modelling\n",
    "- Explore observations for which the model predicts poorly to detect possible improvements\n",
    "\n",
    "For model to better perform in the real world, weights could be applied to reflect male/female distribution of poplulation more accurately."
   ]
  }
 ],
 "metadata": {
  "kernelspec": {
   "display_name": "Python 3 (ipykernel)",
   "language": "python",
   "name": "python3"
  },
  "language_info": {
   "codemirror_mode": {
    "name": "ipython",
    "version": 3
   },
   "file_extension": ".py",
   "mimetype": "text/x-python",
   "name": "python",
   "nbconvert_exporter": "python",
   "pygments_lexer": "ipython3",
   "version": "3.11.7"
  }
 },
 "nbformat": 4,
 "nbformat_minor": 5
}
